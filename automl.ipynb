{
  "cells": [
    {
      "cell_type": "markdown",
      "source": [
        "# Automated ML\n",
        "TODO: Import Dependencies. In the cell below, import all the dependencies that you will need to complete the project."
      ],
      "metadata": {}
    },
    {
      "cell_type": "code",
      "source": [
        "import os\n",
        "import json\n",
        "import requests\n",
        "import joblib\n",
        "import itertools\n",
        "\n",
        "import numpy as np\n",
        "import pandas as pd\n",
        "from sklearn.metrics import confusion_matrix\n",
        "\n",
        "from azureml.core.experiment import Experiment\n",
        "from azureml.core.workspace import Workspace\n",
        "from azureml.core.dataset import Dataset\n",
        "\n",
        "from azureml.train.automl import AutoMLConfig\n",
        "from azureml.core.compute import ComputeTarget, AmlCompute\n",
        "from azureml.core.compute_target import ComputeTargetException\n",
        "from azureml.widgets import RunDetails\n",
        "\n",
        "from azureml.core.model import InferenceConfig\n",
        "from azureml.core.webservice import AciWebservice, Webservice\n",
        "from azureml.core.model import Model\n",
        "from azureml.core.environment import Environment\n",
        "\n"
      ],
      "outputs": [],
      "execution_count": 2,
      "metadata": {
        "gather": {
          "logged": 1613156723446
        },
        "jupyter": {
          "outputs_hidden": false,
          "source_hidden": false
        },
        "nteract": {
          "transient": {
            "deleting": false
          }
        }
      }
    },
    {
      "cell_type": "markdown",
      "source": [
        "## Dataset\n",
        "\n",
        "### Overview\n",
        "Dataset from Davide Chicco, Giuseppe Jurman: Machine learning can predict survival of patients with heart failure from serum creatinine and ejection fraction alone. BMC Medical Informatics and Decision Making 20, 16 (2020)\n",
        "\n",
        "Cardiovascular diseases (CVDs) are the number 1 cause of death globally, taking an estimated 17.9 million lives each year, which accounts for 31% of all deaths worlwide.\n",
        "Heart failure is a common event caused by CVDs and this dataset contains 12 features that can be used to predict mortality by heart failure:\n",
        "age: age of the patient (years)\n",
        "anaemia: decrease of red blood cells or hemoglobin (boolean)\n",
        "high blood pressure: if the patient has hypertension (boolean)\n",
        "creatinine phosphokinase (CPK): level of the CPK enzyme in the blood (mcg/L)\n",
        "diabetes: if the patient has diabetes (boolean)\n",
        "ejection fraction: percentage of blood leaving the heart at each contraction (percentage)\n",
        "platelets: platelets in the blood (kiloplatelets/mL)\n",
        "sex: woman or man (binary)\n",
        "serum creatinine: level of serum creatinine in the blood (mg/dL)\n",
        "serum sodium: level of serum sodium in the blood (mEq/L)\n",
        "smoking: if the patient smokes or not (boolean)\n",
        "time: follow-up period (days)\n",
        "In this project, Azure AutoML will be used to Heart Failure Prediction with the use of 12 clinical features for predicting death events.\n",
        "\n",
        "TODO: Get data. In the cell below, write code to access the data you will be using in this project. Remember that the dataset needs to be external."
      ],
      "metadata": {}
    },
    {
      "cell_type": "code",
      "source": [
        "ws = Workspace.from_config()\n",
        "\n",
        "# choose a name for experiment\n",
        "experiment_name = 'automl-experiment'\n",
        "\n",
        "experiment=Experiment(ws, experiment_name)"
      ],
      "outputs": [
        {
          "output_type": "stream",
          "name": "stdout",
          "text": [
            "Performing interactive authentication. Please follow the instructions on the terminal.\n",
            "To sign in, use a web browser to open the page https://microsoft.com/devicelogin and enter the code RTC5QZ2RV to authenticate.\n",
            "You have logged in. Now let us find all the subscriptions to which you have access...\n",
            "Interactive authentication successfully completed.\n"
          ]
        }
      ],
      "execution_count": 3,
      "metadata": {
        "gather": {
          "logged": 1613156760912
        },
        "jupyter": {
          "outputs_hidden": false,
          "source_hidden": false
        },
        "nteract": {
          "transient": {
            "deleting": false
          }
        }
      }
    },
    {
      "cell_type": "code",
      "source": [
        "ds = dataset = Dataset.get_by_name(ws, 'heart-failure-clinical-records')\n",
        "\n",
        "ds.take(5).to_pandas_dataframe()"
      ],
      "outputs": [
        {
          "output_type": "execute_result",
          "execution_count": 4,
          "data": {
            "text/plain": "    age  anaemia  creatinine_phosphokinase  diabetes  ejection_fraction  \\\n0  75.0        0                       582         0                 20   \n1  55.0        0                      7861         0                 38   \n2  65.0        0                       146         0                 20   \n3  50.0        1                       111         0                 20   \n4  65.0        1                       160         1                 20   \n\n   high_blood_pressure  platelets  serum_creatinine  serum_sodium  sex  \\\n0                    1  265000.00               1.9           130    1   \n1                    0  263358.03               1.1           136    1   \n2                    0  162000.00               1.3           129    1   \n3                    0  210000.00               1.9           137    1   \n4                    0  327000.00               2.7           116    0   \n\n   smoking  time  DEATH_EVENT  \n0        0     4            1  \n1        0     6            1  \n2        1     7            1  \n3        0     7            1  \n4        0     8            1  ",
            "text/html": "<div>\n<style scoped>\n    .dataframe tbody tr th:only-of-type {\n        vertical-align: middle;\n    }\n\n    .dataframe tbody tr th {\n        vertical-align: top;\n    }\n\n    .dataframe thead th {\n        text-align: right;\n    }\n</style>\n<table border=\"1\" class=\"dataframe\">\n  <thead>\n    <tr style=\"text-align: right;\">\n      <th></th>\n      <th>age</th>\n      <th>anaemia</th>\n      <th>creatinine_phosphokinase</th>\n      <th>diabetes</th>\n      <th>ejection_fraction</th>\n      <th>high_blood_pressure</th>\n      <th>platelets</th>\n      <th>serum_creatinine</th>\n      <th>serum_sodium</th>\n      <th>sex</th>\n      <th>smoking</th>\n      <th>time</th>\n      <th>DEATH_EVENT</th>\n    </tr>\n  </thead>\n  <tbody>\n    <tr>\n      <th>0</th>\n      <td>75.0</td>\n      <td>0</td>\n      <td>582</td>\n      <td>0</td>\n      <td>20</td>\n      <td>1</td>\n      <td>265000.00</td>\n      <td>1.9</td>\n      <td>130</td>\n      <td>1</td>\n      <td>0</td>\n      <td>4</td>\n      <td>1</td>\n    </tr>\n    <tr>\n      <th>1</th>\n      <td>55.0</td>\n      <td>0</td>\n      <td>7861</td>\n      <td>0</td>\n      <td>38</td>\n      <td>0</td>\n      <td>263358.03</td>\n      <td>1.1</td>\n      <td>136</td>\n      <td>1</td>\n      <td>0</td>\n      <td>6</td>\n      <td>1</td>\n    </tr>\n    <tr>\n      <th>2</th>\n      <td>65.0</td>\n      <td>0</td>\n      <td>146</td>\n      <td>0</td>\n      <td>20</td>\n      <td>0</td>\n      <td>162000.00</td>\n      <td>1.3</td>\n      <td>129</td>\n      <td>1</td>\n      <td>1</td>\n      <td>7</td>\n      <td>1</td>\n    </tr>\n    <tr>\n      <th>3</th>\n      <td>50.0</td>\n      <td>1</td>\n      <td>111</td>\n      <td>0</td>\n      <td>20</td>\n      <td>0</td>\n      <td>210000.00</td>\n      <td>1.9</td>\n      <td>137</td>\n      <td>1</td>\n      <td>0</td>\n      <td>7</td>\n      <td>1</td>\n    </tr>\n    <tr>\n      <th>4</th>\n      <td>65.0</td>\n      <td>1</td>\n      <td>160</td>\n      <td>1</td>\n      <td>20</td>\n      <td>0</td>\n      <td>327000.00</td>\n      <td>2.7</td>\n      <td>116</td>\n      <td>0</td>\n      <td>0</td>\n      <td>8</td>\n      <td>1</td>\n    </tr>\n  </tbody>\n</table>\n</div>"
          },
          "metadata": {}
        }
      ],
      "execution_count": 4,
      "metadata": {
        "gather": {
          "logged": 1613156777011
        }
      }
    },
    {
      "cell_type": "code",
      "source": [
        "data_train, data_test = dataset.random_split(0.8)"
      ],
      "outputs": [],
      "execution_count": 5,
      "metadata": {
        "gather": {
          "logged": 1613156785513
        }
      }
    },
    {
      "cell_type": "markdown",
      "source": [
        "## Create or Attach an AmlCompute cluster\n",
        "Create a compute target for the AutoML run"
      ],
      "metadata": {}
    },
    {
      "cell_type": "code",
      "source": [
        "# Choose a name for your CPU cluster\n",
        "aml_compute_cluster_name = \"auto-ml\"\n",
        "\n",
        "# Verify that cluster does not exist already\n",
        "try:\n",
        "    compute_target = ComputeTarget(workspace=ws, name=aml_compute_cluster_name)\n",
        "    print('Found existing cluster, use it.')\n",
        "except ComputeTargetException:\n",
        "    compute_config = AmlCompute.provisioning_configuration(vm_size='STANDARD_D2_V2',\n",
        "                                                           max_nodes=4)\n",
        "    compute_target = ComputeTarget.create(ws, aml_compute_cluster_name, compute_config)\n",
        "\n",
        "compute_target.wait_for_completion(show_output=True)"
      ],
      "outputs": [
        {
          "output_type": "stream",
          "name": "stdout",
          "text": [
            "Creating\n",
            "Succeeded\n",
            "AmlCompute wait for completion finished\n",
            "\n",
            "Minimum number of nodes requested have been provisioned\n"
          ]
        }
      ],
      "execution_count": 6,
      "metadata": {
        "gather": {
          "logged": 1613156811111
        }
      }
    },
    {
      "cell_type": "markdown",
      "source": [
        "## AutoML Configuration\n",
        "\n",
        "The main goal of classification models is to predict which categories new data will fall into based on learnings from its training data.\n",
        "AutoML typically performs cross validation, data balance check, cardinality check in prior to machine learning process with a variety of algorithms."
      ],
      "metadata": {}
    },
    {
      "cell_type": "code",
      "source": [
        "# TODO: Put your automl settings here\n",
        "automl_settings = {\"experiment_timeout_minutes\": 30,\n",
        "    \"max_concurrent_iterations\": 3,\n",
        "    \"primary_metric\" : 'accuracy',\n",
        "    \"n_cross_validations\": 4}\n",
        "\n",
        "# TODO: Put your automl config here\n",
        "automl_config = AutoMLConfig(compute_target=compute_target,\n",
        "                             task = \"classification\",\n",
        "                             training_data=data_train,\n",
        "                             label_column_name=\"DEATH_EVENT\",   \n",
        "                             enable_early_stopping= True,\n",
        "                             featurization= 'auto',\n",
        "                             **automl_settings)"
      ],
      "outputs": [],
      "execution_count": 7,
      "metadata": {
        "gather": {
          "logged": 1613156829825
        },
        "jupyter": {
          "outputs_hidden": false,
          "source_hidden": false
        },
        "nteract": {
          "transient": {
            "deleting": false
          }
        }
      }
    },
    {
      "cell_type": "code",
      "source": [
        "# TODO: Submit your experiment\n",
        "remote_run = experiment.submit(automl_config, show_output = True)"
      ],
      "outputs": [
        {
          "output_type": "stream",
          "name": "stdout",
          "text": [
            "Running on remote.\n",
            "No run_configuration provided, running on auto-ml with default configuration\n",
            "Running on remote compute: auto-ml\n",
            "Parent Run ID: AutoML_24db30fe-a126-43b9-b900-a49cf87f1bb6\n",
            "\n",
            "Current status: FeaturesGeneration. Generating features for the dataset.\n",
            "Current status: ModelSelection. Beginning model selection.\n",
            "\n",
            "****************************************************************************************************\n",
            "DATA GUARDRAILS: \n",
            "\n",
            "TYPE:         Class balancing detection\n",
            "STATUS:       PASSED\n",
            "DESCRIPTION:  Your inputs were analyzed, and all classes are balanced in your training data.\n",
            "              Learn more about imbalanced data: https://aka.ms/AutomatedMLImbalancedData\n",
            "\n",
            "****************************************************************************************************\n",
            "\n",
            "TYPE:         Missing feature values imputation\n",
            "STATUS:       PASSED\n",
            "DESCRIPTION:  No feature missing values were detected in the training data.\n",
            "              Learn more about missing value imputation: https://aka.ms/AutomatedMLFeaturization\n",
            "\n",
            "****************************************************************************************************\n",
            "\n",
            "TYPE:         High cardinality feature detection\n",
            "STATUS:       PASSED\n",
            "DESCRIPTION:  Your inputs were analyzed, and no high cardinality features were detected.\n",
            "              Learn more about high cardinality feature handling: https://aka.ms/AutomatedMLFeaturization\n",
            "\n",
            "****************************************************************************************************\n",
            "\n",
            "****************************************************************************************************\n",
            "ITERATION: The iteration being evaluated.\n",
            "PIPELINE: A summary description of the pipeline being evaluated.\n",
            "DURATION: Time taken for the current iteration.\n",
            "METRIC: The result of computing score on the fitted pipeline.\n",
            "BEST: The best observed score thus far.\n",
            "****************************************************************************************************\n",
            "\n",
            " ITERATION   PIPELINE                                       DURATION      METRIC      BEST\n",
            "         2   MinMaxScaler RandomForest                      0:00:51       0.8650    0.8650\n",
            "         0   MaxAbsScaler LightGBM                          0:00:53       0.8311    0.8650\n",
            "         1   MaxAbsScaler XGBoostClassifier                 0:00:52       0.8522    0.8650\n",
            "         3   MinMaxScaler RandomForest                      0:00:54       0.8184    0.8650\n",
            "         6   MinMaxScaler SVM                               0:00:52       0.7424    0.8650\n",
            "         7   MaxAbsScaler GradientBoosting                  0:00:53       0.8564    0.8650\n",
            "         8   StandardScalerWrapper RandomForest             0:00:57       0.8481    0.8650\n",
            "         5   RobustScaler LightGBM                          0:05:15       0.8648    0.8650\n",
            "         4   MinMaxScaler RandomForest                      0:05:22       0.8480    0.8650\n",
            "         9   RobustScaler RandomForest                      0:00:58       0.8648    0.8650\n",
            "        11   SparseNormalizer LightGBM                      0:00:46       0.8520    0.8650\n",
            "        10   SparseNormalizer XGBoostClassifier             0:00:58       0.8393    0.8650\n",
            "        12   SparseNormalizer XGBoostClassifier             0:00:49       0.8268    0.8650\n",
            "        13   RobustScaler ExtremeRandomTrees                0:00:48       0.8607    0.8650\n",
            "        14   MaxAbsScaler LightGBM                          0:00:54       0.8439    0.8650\n",
            "        15   RobustScaler ExtremeRandomTrees                0:00:58       0.8564    0.8650\n",
            "        16   SparseNormalizer XGBoostClassifier             0:00:52       0.8100    0.8650\n",
            "        17   StandardScalerWrapper ExtremeRandomTrees       0:00:55       0.8650    0.8650\n",
            "        18   StandardScalerWrapper XGBoostClassifier        0:00:53       0.8564    0.8650\n",
            "        19   StandardScalerWrapper GradientBoosting         0:00:46       0.8607    0.8650\n",
            "        20   MaxAbsScaler GradientBoosting                  0:00:46       0.8564    0.8650\n",
            "        21   StandardScalerWrapper LightGBM                 0:00:55       0.8143    0.8650\n",
            "        22   StandardScalerWrapper LightGBM                 0:00:43       0.8269    0.8650\n",
            "        23   StandardScalerWrapper LightGBM                 0:00:59       0.8733    0.8733\n",
            "        24   StandardScalerWrapper LightGBM                 0:00:54       0.8523    0.8733\n",
            "        25   TruncatedSVDWrapper ExtremeRandomTrees         0:00:50       0.4809    0.8733\n",
            "        26   SparseNormalizer RandomForest                  0:00:52       0.8268    0.8733\n",
            "        27   MaxAbsScaler RandomForest                      0:00:51       0.8311    0.8733\n",
            "        28   MaxAbsScaler LightGBM                          0:00:50       0.8269    0.8733\n",
            "        29   StandardScalerWrapper LightGBM                 0:00:48       0.8649    0.8733\n",
            "        30   SparseNormalizer LightGBM                      0:00:48       0.7549    0.8733\n",
            "        31   MaxAbsScaler LightGBM                          0:00:49       0.8437    0.8733\n",
            "        32   StandardScalerWrapper LightGBM                 0:00:50       0.8268    0.8733\n",
            "        33   MaxAbsScaler LightGBM                          0:00:47       0.8521    0.8733\n",
            "        34   MaxAbsScaler LightGBM                          0:00:53       0.8607    0.8733\n",
            "        35   MaxAbsScaler LightGBM                          0:00:52       0.8479    0.8733\n",
            "        36   StandardScalerWrapper RandomForest             0:00:50       0.8523    0.8733\n",
            "        37   StandardScalerWrapper LightGBM                 0:00:25          nan    0.8733\n",
            "        39    StackEnsemble                                 0:01:32       0.8691    0.8733\n",
            "        38    VotingEnsemble                                0:01:35       0.8859    0.8859\n"
          ]
        }
      ],
      "execution_count": 8,
      "metadata": {
        "gather": {
          "logged": 1613158682393
        },
        "jupyter": {
          "outputs_hidden": false,
          "source_hidden": false
        },
        "nteract": {
          "transient": {
            "deleting": false
          }
        }
      }
    },
    {
      "cell_type": "markdown",
      "source": [
        "## Run Details\n",
        "`RunDetails` widget to show the different experiments."
      ],
      "metadata": {}
    },
    {
      "cell_type": "code",
      "source": [
        "remote_run"
      ],
      "outputs": [
        {
          "output_type": "execute_result",
          "execution_count": 9,
          "data": {
            "text/plain": "Run(Experiment: automl-experiment,\nId: AutoML_24db30fe-a126-43b9-b900-a49cf87f1bb6,\nType: automl,\nStatus: Completed)",
            "text/html": "<table style=\"width:100%\"><tr><th>Experiment</th><th>Id</th><th>Type</th><th>Status</th><th>Details Page</th><th>Docs Page</th></tr><tr><td>automl-experiment</td><td>AutoML_24db30fe-a126-43b9-b900-a49cf87f1bb6</td><td>automl</td><td>Completed</td><td><a href=\"https://ml.azure.com/experiments/automl-experiment/runs/AutoML_24db30fe-a126-43b9-b900-a49cf87f1bb6?wsid=/subscriptions/b968fb36-f06a-4c76-a15f-afab68ae7667/resourcegroups/aml-quickstarts-138728/workspaces/quick-starts-ws-138728\" target=\"_blank\" rel=\"noopener\">Link to Azure Machine Learning studio</a></td><td><a href=\"https://docs.microsoft.com/en-us/python/api/overview/azure/ml/intro?view=azure-ml-py\" target=\"_blank\" rel=\"noopener\">Link to Documentation</a></td></tr></table>"
          },
          "metadata": {}
        }
      ],
      "execution_count": 9,
      "metadata": {
        "gather": {
          "logged": 1613158717251
        },
        "jupyter": {
          "outputs_hidden": false,
          "source_hidden": false
        },
        "nteract": {
          "transient": {
            "deleting": false
          }
        }
      }
    },
    {
      "cell_type": "code",
      "source": [
        "RunDetails(remote_run).show()"
      ],
      "outputs": [
        {
          "output_type": "display_data",
          "data": {
            "text/plain": "_AutoMLWidget(widget_settings={'childWidgetDisplay': 'popup', 'send_telemetry': False, 'log_level': 'INFO', 's…",
            "application/vnd.jupyter.widget-view+json": {
              "version_major": 2,
              "version_minor": 0,
              "model_id": "48177a3d4e6d477b823e8e3491bb7d61"
            }
          },
          "metadata": {}
        },
        {
          "output_type": "display_data",
          "data": {
            "application/aml.mini.widget.v1": "{\"status\": \"Completed\", \"workbench_run_details_uri\": \"https://ml.azure.com/experiments/automl-experiment/runs/AutoML_24db30fe-a126-43b9-b900-a49cf87f1bb6?wsid=/subscriptions/b968fb36-f06a-4c76-a15f-afab68ae7667/resourcegroups/aml-quickstarts-138728/workspaces/quick-starts-ws-138728\", \"run_id\": \"AutoML_24db30fe-a126-43b9-b900-a49cf87f1bb6\", \"run_properties\": {\"run_id\": \"AutoML_24db30fe-a126-43b9-b900-a49cf87f1bb6\", \"created_utc\": \"2021-02-12T19:07:15.227226Z\", \"properties\": {\"num_iterations\": \"1000\", \"training_type\": \"TrainFull\", \"acquisition_function\": \"EI\", \"primary_metric\": \"accuracy\", \"train_split\": \"0\", \"acquisition_parameter\": \"0\", \"num_cross_validation\": \"4\", \"target\": \"auto-ml\", \"AMLSettingsJsonString\": \"{\\\"path\\\":null,\\\"name\\\":\\\"automl-experiment\\\",\\\"subscription_id\\\":\\\"b968fb36-f06a-4c76-a15f-afab68ae7667\\\",\\\"resource_group\\\":\\\"aml-quickstarts-138728\\\",\\\"workspace_name\\\":\\\"quick-starts-ws-138728\\\",\\\"region\\\":\\\"southcentralus\\\",\\\"compute_target\\\":\\\"auto-ml\\\",\\\"spark_service\\\":null,\\\"azure_service\\\":\\\"remote\\\",\\\"many_models\\\":false,\\\"pipeline_fetch_max_batch_size\\\":1,\\\"iterations\\\":1000,\\\"primary_metric\\\":\\\"accuracy\\\",\\\"task_type\\\":\\\"classification\\\",\\\"data_script\\\":null,\\\"validation_size\\\":0.0,\\\"n_cross_validations\\\":4,\\\"y_min\\\":null,\\\"y_max\\\":null,\\\"num_classes\\\":null,\\\"featurization\\\":\\\"auto\\\",\\\"_ignore_package_version_incompatibilities\\\":false,\\\"is_timeseries\\\":false,\\\"max_cores_per_iteration\\\":1,\\\"max_concurrent_iterations\\\":3,\\\"iteration_timeout_minutes\\\":null,\\\"mem_in_mb\\\":null,\\\"enforce_time_on_windows\\\":false,\\\"experiment_timeout_minutes\\\":30,\\\"experiment_exit_score\\\":null,\\\"whitelist_models\\\":null,\\\"blacklist_algos\\\":[\\\"TensorFlowLinearClassifier\\\",\\\"TensorFlowDNN\\\"],\\\"supported_models\\\":[\\\"KNN\\\",\\\"LogisticRegression\\\",\\\"SVM\\\",\\\"ExtremeRandomTrees\\\",\\\"TensorFlowDNN\\\",\\\"XGBoostClassifier\\\",\\\"TensorFlowLinearClassifier\\\",\\\"LinearSVM\\\",\\\"SGD\\\",\\\"BernoulliNaiveBayes\\\",\\\"AveragedPerceptronClassifier\\\",\\\"RandomForest\\\",\\\"DecisionTree\\\",\\\"GradientBoosting\\\",\\\"LightGBM\\\",\\\"MultinomialNaiveBayes\\\"],\\\"auto_blacklist\\\":true,\\\"blacklist_samples_reached\\\":false,\\\"exclude_nan_labels\\\":true,\\\"verbosity\\\":20,\\\"_debug_log\\\":\\\"azureml_automl.log\\\",\\\"show_warnings\\\":false,\\\"model_explainability\\\":true,\\\"service_url\\\":null,\\\"sdk_url\\\":null,\\\"sdk_packages\\\":null,\\\"enable_onnx_compatible_models\\\":false,\\\"enable_split_onnx_featurizer_estimator_models\\\":false,\\\"vm_type\\\":\\\"STANDARD_D2_V2\\\",\\\"telemetry_verbosity\\\":20,\\\"send_telemetry\\\":true,\\\"enable_dnn\\\":false,\\\"scenario\\\":\\\"SDK-1.13.0\\\",\\\"environment_label\\\":null,\\\"force_text_dnn\\\":false,\\\"enable_feature_sweeping\\\":true,\\\"enable_early_stopping\\\":true,\\\"early_stopping_n_iters\\\":10,\\\"metrics\\\":null,\\\"enable_ensembling\\\":true,\\\"enable_stack_ensembling\\\":true,\\\"ensemble_iterations\\\":15,\\\"enable_tf\\\":false,\\\"enable_subsampling\\\":null,\\\"subsample_seed\\\":null,\\\"enable_nimbusml\\\":false,\\\"enable_streaming\\\":false,\\\"force_streaming\\\":false,\\\"track_child_runs\\\":true,\\\"allowed_private_models\\\":[],\\\"label_column_name\\\":\\\"DEATH_EVENT\\\",\\\"weight_column_name\\\":null,\\\"cv_split_column_names\\\":null,\\\"enable_local_managed\\\":false,\\\"_local_managed_run_id\\\":null,\\\"cost_mode\\\":1,\\\"lag_length\\\":0,\\\"metric_operation\\\":\\\"maximize\\\",\\\"preprocess\\\":true}\", \"DataPrepJsonString\": \"{\\\\\\\"training_data\\\\\\\": \\\\\\\"{\\\\\\\\\\\\\\\"blocks\\\\\\\\\\\\\\\": [{\\\\\\\\\\\\\\\"id\\\\\\\\\\\\\\\": \\\\\\\\\\\\\\\"664ecba9-ae42-4460-94b3-7ea5bcccf9c7\\\\\\\\\\\\\\\", \\\\\\\\\\\\\\\"type\\\\\\\\\\\\\\\": \\\\\\\\\\\\\\\"Microsoft.DPrep.GetDatastoreFilesBlock\\\\\\\\\\\\\\\", \\\\\\\\\\\\\\\"arguments\\\\\\\\\\\\\\\": {\\\\\\\\\\\\\\\"datastores\\\\\\\\\\\\\\\": [{\\\\\\\\\\\\\\\"datastoreName\\\\\\\\\\\\\\\": \\\\\\\\\\\\\\\"workspaceblobstore\\\\\\\\\\\\\\\", \\\\\\\\\\\\\\\"path\\\\\\\\\\\\\\\": \\\\\\\\\\\\\\\"UI/02-12-2021_065950_UTC/heart-failure-clinical-records.csv\\\\\\\\\\\\\\\", \\\\\\\\\\\\\\\"resourceGroup\\\\\\\\\\\\\\\": \\\\\\\\\\\\\\\"aml-quickstarts-138728\\\\\\\\\\\\\\\", \\\\\\\\\\\\\\\"subscription\\\\\\\\\\\\\\\": \\\\\\\\\\\\\\\"b968fb36-f06a-4c76-a15f-afab68ae7667\\\\\\\\\\\\\\\", \\\\\\\\\\\\\\\"workspaceName\\\\\\\\\\\\\\\": \\\\\\\\\\\\\\\"quick-starts-ws-138728\\\\\\\\\\\\\\\"}]}, \\\\\\\\\\\\\\\"localData\\\\\\\\\\\\\\\": {}, \\\\\\\\\\\\\\\"isEnabled\\\\\\\\\\\\\\\": true, \\\\\\\\\\\\\\\"name\\\\\\\\\\\\\\\": null, \\\\\\\\\\\\\\\"annotation\\\\\\\\\\\\\\\": null}, {\\\\\\\\\\\\\\\"id\\\\\\\\\\\\\\\": \\\\\\\\\\\\\\\"568a3b92-866a-43d6-955a-af5347798461\\\\\\\\\\\\\\\", \\\\\\\\\\\\\\\"type\\\\\\\\\\\\\\\": \\\\\\\\\\\\\\\"Microsoft.DPrep.ParseDelimitedBlock\\\\\\\\\\\\\\\", \\\\\\\\\\\\\\\"arguments\\\\\\\\\\\\\\\": {\\\\\\\\\\\\\\\"columnHeadersMode\\\\\\\\\\\\\\\": 1, \\\\\\\\\\\\\\\"fileEncoding\\\\\\\\\\\\\\\": 0, \\\\\\\\\\\\\\\"handleQuotedLineBreaks\\\\\\\\\\\\\\\": false, \\\\\\\\\\\\\\\"preview\\\\\\\\\\\\\\\": false, \\\\\\\\\\\\\\\"separator\\\\\\\\\\\\\\\": \\\\\\\\\\\\\\\",\\\\\\\\\\\\\\\", \\\\\\\\\\\\\\\"skipRows\\\\\\\\\\\\\\\": 0, \\\\\\\\\\\\\\\"skipRowsMode\\\\\\\\\\\\\\\": 0}, \\\\\\\\\\\\\\\"localData\\\\\\\\\\\\\\\": {}, \\\\\\\\\\\\\\\"isEnabled\\\\\\\\\\\\\\\": true, \\\\\\\\\\\\\\\"name\\\\\\\\\\\\\\\": null, \\\\\\\\\\\\\\\"annotation\\\\\\\\\\\\\\\": null}, {\\\\\\\\\\\\\\\"id\\\\\\\\\\\\\\\": \\\\\\\\\\\\\\\"1a421500-eb7a-4105-90f3-975854876d9b\\\\\\\\\\\\\\\", \\\\\\\\\\\\\\\"type\\\\\\\\\\\\\\\": \\\\\\\\\\\\\\\"Microsoft.DPrep.DropColumnsBlock\\\\\\\\\\\\\\\", \\\\\\\\\\\\\\\"arguments\\\\\\\\\\\\\\\": {\\\\\\\\\\\\\\\"columns\\\\\\\\\\\\\\\": {\\\\\\\\\\\\\\\"type\\\\\\\\\\\\\\\": 0, \\\\\\\\\\\\\\\"details\\\\\\\\\\\\\\\": {\\\\\\\\\\\\\\\"selectedColumns\\\\\\\\\\\\\\\": [\\\\\\\\\\\\\\\"Path\\\\\\\\\\\\\\\"]}}}, \\\\\\\\\\\\\\\"localData\\\\\\\\\\\\\\\": {}, \\\\\\\\\\\\\\\"isEnabled\\\\\\\\\\\\\\\": true, \\\\\\\\\\\\\\\"name\\\\\\\\\\\\\\\": null, \\\\\\\\\\\\\\\"annotation\\\\\\\\\\\\\\\": null}, {\\\\\\\\\\\\\\\"id\\\\\\\\\\\\\\\": \\\\\\\\\\\\\\\"9cfbabfc-a0b7-4b10-8fa3-7a5a99d9d315\\\\\\\\\\\\\\\", \\\\\\\\\\\\\\\"type\\\\\\\\\\\\\\\": \\\\\\\\\\\\\\\"Microsoft.DPrep.SetColumnTypesBlock\\\\\\\\\\\\\\\", \\\\\\\\\\\\\\\"arguments\\\\\\\\\\\\\\\": {\\\\\\\\\\\\\\\"columnConversion\\\\\\\\\\\\\\\": [{\\\\\\\\\\\\\\\"column\\\\\\\\\\\\\\\": {\\\\\\\\\\\\\\\"type\\\\\\\\\\\\\\\": 2, \\\\\\\\\\\\\\\"details\\\\\\\\\\\\\\\": {\\\\\\\\\\\\\\\"selectedColumn\\\\\\\\\\\\\\\": \\\\\\\\\\\\\\\"Path\\\\\\\\\\\\\\\"}}, \\\\\\\\\\\\\\\"typeProperty\\\\\\\\\\\\\\\": 0}, {\\\\\\\\\\\\\\\"column\\\\\\\\\\\\\\\": {\\\\\\\\\\\\\\\"type\\\\\\\\\\\\\\\": 2, \\\\\\\\\\\\\\\"details\\\\\\\\\\\\\\\": {\\\\\\\\\\\\\\\"selectedColumn\\\\\\\\\\\\\\\": \\\\\\\\\\\\\\\"age\\\\\\\\\\\\\\\"}}, \\\\\\\\\\\\\\\"typeProperty\\\\\\\\\\\\\\\": 3}, {\\\\\\\\\\\\\\\"column\\\\\\\\\\\\\\\": {\\\\\\\\\\\\\\\"type\\\\\\\\\\\\\\\": 2, \\\\\\\\\\\\\\\"details\\\\\\\\\\\\\\\": {\\\\\\\\\\\\\\\"selectedColumn\\\\\\\\\\\\\\\": \\\\\\\\\\\\\\\"anaemia\\\\\\\\\\\\\\\"}}, \\\\\\\\\\\\\\\"typeProperty\\\\\\\\\\\\\\\": 2}, {\\\\\\\\\\\\\\\"column\\\\\\\\\\\\\\\": {\\\\\\\\\\\\\\\"type\\\\\\\\\\\\\\\": 2, \\\\\\\\\\\\\\\"details\\\\\\\\\\\\\\\": {\\\\\\\\\\\\\\\"selectedColumn\\\\\\\\\\\\\\\": \\\\\\\\\\\\\\\"creatinine_phosphokinase\\\\\\\\\\\\\\\"}}, \\\\\\\\\\\\\\\"typeProperty\\\\\\\\\\\\\\\": 2}, {\\\\\\\\\\\\\\\"column\\\\\\\\\\\\\\\": {\\\\\\\\\\\\\\\"type\\\\\\\\\\\\\\\": 2, \\\\\\\\\\\\\\\"details\\\\\\\\\\\\\\\": {\\\\\\\\\\\\\\\"selectedColumn\\\\\\\\\\\\\\\": \\\\\\\\\\\\\\\"diabetes\\\\\\\\\\\\\\\"}}, \\\\\\\\\\\\\\\"typeProperty\\\\\\\\\\\\\\\": 2}, {\\\\\\\\\\\\\\\"column\\\\\\\\\\\\\\\": {\\\\\\\\\\\\\\\"type\\\\\\\\\\\\\\\": 2, \\\\\\\\\\\\\\\"details\\\\\\\\\\\\\\\": {\\\\\\\\\\\\\\\"selectedColumn\\\\\\\\\\\\\\\": \\\\\\\\\\\\\\\"ejection_fraction\\\\\\\\\\\\\\\"}}, \\\\\\\\\\\\\\\"typeProperty\\\\\\\\\\\\\\\": 2}, {\\\\\\\\\\\\\\\"column\\\\\\\\\\\\\\\": {\\\\\\\\\\\\\\\"type\\\\\\\\\\\\\\\": 2, \\\\\\\\\\\\\\\"details\\\\\\\\\\\\\\\": {\\\\\\\\\\\\\\\"selectedColumn\\\\\\\\\\\\\\\": \\\\\\\\\\\\\\\"high_blood_pressure\\\\\\\\\\\\\\\"}}, \\\\\\\\\\\\\\\"typeProperty\\\\\\\\\\\\\\\": 2}, {\\\\\\\\\\\\\\\"column\\\\\\\\\\\\\\\": {\\\\\\\\\\\\\\\"type\\\\\\\\\\\\\\\": 2, \\\\\\\\\\\\\\\"details\\\\\\\\\\\\\\\": {\\\\\\\\\\\\\\\"selectedColumn\\\\\\\\\\\\\\\": \\\\\\\\\\\\\\\"platelets\\\\\\\\\\\\\\\"}}, \\\\\\\\\\\\\\\"typeProperty\\\\\\\\\\\\\\\": 3}, {\\\\\\\\\\\\\\\"column\\\\\\\\\\\\\\\": {\\\\\\\\\\\\\\\"type\\\\\\\\\\\\\\\": 2, \\\\\\\\\\\\\\\"details\\\\\\\\\\\\\\\": {\\\\\\\\\\\\\\\"selectedColumn\\\\\\\\\\\\\\\": \\\\\\\\\\\\\\\"serum_creatinine\\\\\\\\\\\\\\\"}}, \\\\\\\\\\\\\\\"typeProperty\\\\\\\\\\\\\\\": 3}, {\\\\\\\\\\\\\\\"column\\\\\\\\\\\\\\\": {\\\\\\\\\\\\\\\"type\\\\\\\\\\\\\\\": 2, \\\\\\\\\\\\\\\"details\\\\\\\\\\\\\\\": {\\\\\\\\\\\\\\\"selectedColumn\\\\\\\\\\\\\\\": \\\\\\\\\\\\\\\"serum_sodium\\\\\\\\\\\\\\\"}}, \\\\\\\\\\\\\\\"typeProperty\\\\\\\\\\\\\\\": 2}, {\\\\\\\\\\\\\\\"column\\\\\\\\\\\\\\\": {\\\\\\\\\\\\\\\"type\\\\\\\\\\\\\\\": 2, \\\\\\\\\\\\\\\"details\\\\\\\\\\\\\\\": {\\\\\\\\\\\\\\\"selectedColumn\\\\\\\\\\\\\\\": \\\\\\\\\\\\\\\"sex\\\\\\\\\\\\\\\"}}, \\\\\\\\\\\\\\\"typeProperty\\\\\\\\\\\\\\\": 2}, {\\\\\\\\\\\\\\\"column\\\\\\\\\\\\\\\": {\\\\\\\\\\\\\\\"type\\\\\\\\\\\\\\\": 2, \\\\\\\\\\\\\\\"details\\\\\\\\\\\\\\\": {\\\\\\\\\\\\\\\"selectedColumn\\\\\\\\\\\\\\\": \\\\\\\\\\\\\\\"smoking\\\\\\\\\\\\\\\"}}, \\\\\\\\\\\\\\\"typeProperty\\\\\\\\\\\\\\\": 2}, {\\\\\\\\\\\\\\\"column\\\\\\\\\\\\\\\": {\\\\\\\\\\\\\\\"type\\\\\\\\\\\\\\\": 2, \\\\\\\\\\\\\\\"details\\\\\\\\\\\\\\\": {\\\\\\\\\\\\\\\"selectedColumn\\\\\\\\\\\\\\\": \\\\\\\\\\\\\\\"time\\\\\\\\\\\\\\\"}}, \\\\\\\\\\\\\\\"typeProperty\\\\\\\\\\\\\\\": 2}, {\\\\\\\\\\\\\\\"column\\\\\\\\\\\\\\\": {\\\\\\\\\\\\\\\"type\\\\\\\\\\\\\\\": 2, \\\\\\\\\\\\\\\"details\\\\\\\\\\\\\\\": {\\\\\\\\\\\\\\\"selectedColumn\\\\\\\\\\\\\\\": \\\\\\\\\\\\\\\"DEATH_EVENT\\\\\\\\\\\\\\\"}}, \\\\\\\\\\\\\\\"typeProperty\\\\\\\\\\\\\\\": 2}]}, \\\\\\\\\\\\\\\"localData\\\\\\\\\\\\\\\": {}, \\\\\\\\\\\\\\\"isEnabled\\\\\\\\\\\\\\\": true, \\\\\\\\\\\\\\\"name\\\\\\\\\\\\\\\": null, \\\\\\\\\\\\\\\"annotation\\\\\\\\\\\\\\\": null}, {\\\\\\\\\\\\\\\"id\\\\\\\\\\\\\\\": \\\\\\\\\\\\\\\"b59987f4-1bd1-45d3-a745-c823f3d4bfc2\\\\\\\\\\\\\\\", \\\\\\\\\\\\\\\"type\\\\\\\\\\\\\\\": \\\\\\\\\\\\\\\"Microsoft.DPrep.TakeSampleBlock\\\\\\\\\\\\\\\", \\\\\\\\\\\\\\\"arguments\\\\\\\\\\\\\\\": {\\\\\\\\\\\\\\\"probability\\\\\\\\\\\\\\\": 0.8, \\\\\\\\\\\\\\\"probabilityLowerBound\\\\\\\\\\\\\\\": 0.0, \\\\\\\\\\\\\\\"seed\\\\\\\\\\\\\\\": 3932284004}, \\\\\\\\\\\\\\\"localData\\\\\\\\\\\\\\\": {}, \\\\\\\\\\\\\\\"isEnabled\\\\\\\\\\\\\\\": true, \\\\\\\\\\\\\\\"name\\\\\\\\\\\\\\\": null, \\\\\\\\\\\\\\\"annotation\\\\\\\\\\\\\\\": null}], \\\\\\\\\\\\\\\"inspectors\\\\\\\\\\\\\\\": [], \\\\\\\\\\\\\\\"meta\\\\\\\\\\\\\\\": {\\\\\\\\\\\\\\\"savedDatasetId\\\\\\\\\\\\\\\": \\\\\\\\\\\\\\\"f962b0ee-db86-46f4-8d3c-35a93b0f9bfa\\\\\\\\\\\\\\\", \\\\\\\\\\\\\\\"datasetType\\\\\\\\\\\\\\\": \\\\\\\\\\\\\\\"tabular\\\\\\\\\\\\\\\", \\\\\\\\\\\\\\\"subscriptionId\\\\\\\\\\\\\\\": \\\\\\\\\\\\\\\"b968fb36-f06a-4c76-a15f-afab68ae7667\\\\\\\\\\\\\\\", \\\\\\\\\\\\\\\"workspaceId\\\\\\\\\\\\\\\": \\\\\\\\\\\\\\\"9beb0ca5-2a98-4015-b661-97c7fbe5dde3\\\\\\\\\\\\\\\", \\\\\\\\\\\\\\\"workspaceLocation\\\\\\\\\\\\\\\": \\\\\\\\\\\\\\\"southcentralus\\\\\\\\\\\\\\\"}}\\\\\\\", \\\\\\\"activities\\\\\\\": 0}\", \"EnableSubsampling\": null, \"runTemplate\": \"AutoML\", \"azureml.runsource\": \"automl\", \"display_task_type\": \"classification\", \"dependencies_versions\": \"{\\\"azureml-widgets\\\": \\\"1.20.0\\\", \\\"azureml-train\\\": \\\"1.20.0\\\", \\\"azureml-train-restclients-hyperdrive\\\": \\\"1.20.0\\\", \\\"azureml-train-core\\\": \\\"1.20.0\\\", \\\"azureml-train-automl\\\": \\\"1.20.0\\\", \\\"azureml-train-automl-runtime\\\": \\\"1.20.0\\\", \\\"azureml-train-automl-client\\\": \\\"1.20.0\\\", \\\"azureml-tensorboard\\\": \\\"1.20.0\\\", \\\"azureml-telemetry\\\": \\\"1.20.0\\\", \\\"azureml-sdk\\\": \\\"1.20.0\\\", \\\"azureml-samples\\\": \\\"0+unknown\\\", \\\"azureml-pipeline\\\": \\\"1.20.0\\\", \\\"azureml-pipeline-steps\\\": \\\"1.20.0\\\", \\\"azureml-pipeline-core\\\": \\\"1.20.0\\\", \\\"azureml-opendatasets\\\": \\\"1.20.0\\\", \\\"azureml-model-management-sdk\\\": \\\"1.0.1b6.post1\\\", \\\"azureml-mlflow\\\": \\\"1.20.0.post1\\\", \\\"azureml-interpret\\\": \\\"1.20.0\\\", \\\"azureml-explain-model\\\": \\\"1.20.0\\\", \\\"azureml-defaults\\\": \\\"1.20.0\\\", \\\"azureml-dataset-runtime\\\": \\\"1.20.0\\\", \\\"azureml-dataprep\\\": \\\"2.7.3\\\", \\\"azureml-dataprep-rslex\\\": \\\"1.5.0\\\", \\\"azureml-dataprep-native\\\": \\\"27.0.0\\\", \\\"azureml-datadrift\\\": \\\"1.20.0\\\", \\\"azureml-core\\\": \\\"1.20.0\\\", \\\"azureml-contrib-services\\\": \\\"1.20.0\\\", \\\"azureml-contrib-server\\\": \\\"1.20.0\\\", \\\"azureml-contrib-reinforcementlearning\\\": \\\"1.20.0\\\", \\\"azureml-contrib-pipeline-steps\\\": \\\"1.20.0\\\", \\\"azureml-contrib-notebook\\\": \\\"1.20.0\\\", \\\"azureml-contrib-interpret\\\": \\\"1.20.0\\\", \\\"azureml-contrib-gbdt\\\": \\\"1.20.0\\\", \\\"azureml-contrib-fairness\\\": \\\"1.20.0\\\", \\\"azureml-contrib-dataset\\\": \\\"1.20.0\\\", \\\"azureml-cli-common\\\": \\\"1.20.0\\\", \\\"azureml-automl-runtime\\\": \\\"1.20.0\\\", \\\"azureml-automl-core\\\": \\\"1.20.0\\\", \\\"azureml-accel-models\\\": \\\"1.20.0\\\"}\", \"_aml_system_scenario_identification\": \"Remote.Parent\", \"ClientType\": \"SDK\", \"environment_cpu_name\": \"AzureML-AutoML\", \"environment_cpu_label\": \"prod\", \"environment_gpu_name\": \"AzureML-AutoML-GPU\", \"environment_gpu_label\": \"prod\", \"root_attribution\": \"automl\", \"attribution\": \"AutoML\", \"Orchestrator\": \"AutoML\", \"CancelUri\": \"https://southcentralus.experiments.azureml.net/jasmine/v1.0/subscriptions/b968fb36-f06a-4c76-a15f-afab68ae7667/resourceGroups/aml-quickstarts-138728/providers/Microsoft.MachineLearningServices/workspaces/quick-starts-ws-138728/experimentids/31a445a6-0c45-4f4a-920f-bab281ba0ff3/cancel/AutoML_24db30fe-a126-43b9-b900-a49cf87f1bb6\", \"ClientSdkVersion\": \"1.21.0\", \"snapshotId\": \"00000000-0000-0000-0000-000000000000\", \"SetupRunId\": \"AutoML_24db30fe-a126-43b9-b900-a49cf87f1bb6_setup\", \"SetupRunContainerId\": \"dcid.AutoML_24db30fe-a126-43b9-b900-a49cf87f1bb6_setup\", \"FeaturizationRunJsonPath\": \"featurizer_container.json\", \"FeaturizationRunId\": \"AutoML_24db30fe-a126-43b9-b900-a49cf87f1bb6_featurize\", \"ProblemInfoJsonString\": \"{\\\"dataset_num_categorical\\\": 0, \\\"is_sparse\\\": false, \\\"subsampling\\\": false, \\\"dataset_classes\\\": 2, \\\"dataset_features\\\": 12, \\\"dataset_samples\\\": 237, \\\"single_frequency_class_detected\\\": false}\", \"ModelExplainRunId\": \"AutoML_24db30fe-a126-43b9-b900-a49cf87f1bb6_ModelExplain\"}, \"tags\": {\"model_explain_run\": \"best_run\", \"_aml_system_azureml.automlComponent\": \"AutoML\", \"pipeline_id\": \"\", \"score\": \"\", \"predicted_cost\": \"\", \"fit_time\": \"\", \"training_percent\": \"\", \"iteration\": \"\", \"run_preprocessor\": \"\", \"run_algorithm\": \"\", \"dynamic_whitelisting_iterations\": \"<25>;<30>;<35>;\", \"automl_best_child_run_id\": \"AutoML_24db30fe-a126-43b9-b900-a49cf87f1bb6_38\"}, \"end_time_utc\": \"2021-02-12T19:37:49.177488Z\", \"status\": \"Completed\", \"log_files\": {}, \"log_groups\": [], \"run_duration\": \"0:30:33\"}, \"child_runs\": [{\"run_id\": \"AutoML_24db30fe-a126-43b9-b900-a49cf87f1bb6_0\", \"run_number\": 5, \"metric\": null, \"status\": \"Completed\", \"run_type\": \"azureml.scriptrun\", \"training_percent\": \"100\", \"start_time\": \"2021-02-12T19:18:08.827726Z\", \"end_time\": \"2021-02-12T19:19:01.69907Z\", \"created_time\": \"2021-02-12T19:17:00.372499Z\", \"created_time_dt\": \"2021-02-12T19:17:00.372499Z\", \"duration\": \"0:02:01\", \"iteration\": \"0\", \"goal\": \"accuracy_max\", \"run_name\": \"MaxAbsScaler, LightGBM\", \"run_properties\": \"copy=True\", \"primary_metric\": 0.83107345, \"best_metric\": 0.83107345}, {\"run_id\": \"AutoML_24db30fe-a126-43b9-b900-a49cf87f1bb6_1\", \"run_number\": 6, \"metric\": null, \"status\": \"Completed\", \"run_type\": \"azureml.scriptrun\", \"training_percent\": \"100\", \"start_time\": \"2021-02-12T19:19:06.977485Z\", \"end_time\": \"2021-02-12T19:19:59.011005Z\", \"created_time\": \"2021-02-12T19:17:00.473199Z\", \"created_time_dt\": \"2021-02-12T19:17:00.473199Z\", \"duration\": \"0:02:58\", \"iteration\": \"1\", \"goal\": \"accuracy_max\", \"run_name\": \"MaxAbsScaler, XGBoostClassifier\", \"run_properties\": \"copy=True\", \"primary_metric\": 0.85218927, \"best_metric\": 0.85218927}, {\"run_id\": \"AutoML_24db30fe-a126-43b9-b900-a49cf87f1bb6_2\", \"run_number\": 7, \"metric\": null, \"status\": \"Completed\", \"run_type\": \"azureml.scriptrun\", \"training_percent\": \"100\", \"start_time\": \"2021-02-12T19:17:12.979531Z\", \"end_time\": \"2021-02-12T19:18:04.348428Z\", \"created_time\": \"2021-02-12T19:17:00.480468Z\", \"created_time_dt\": \"2021-02-12T19:17:00.480468Z\", \"duration\": \"0:01:03\", \"iteration\": \"2\", \"goal\": \"accuracy_max\", \"run_name\": \"MinMaxScaler, RandomForest\", \"run_properties\": \"copy=True, feature_range=(0, 1\", \"primary_metric\": 0.86497175, \"best_metric\": 0.86497175}, {\"run_id\": \"AutoML_24db30fe-a126-43b9-b900-a49cf87f1bb6_3\", \"run_number\": 8, \"metric\": null, \"status\": \"Completed\", \"run_type\": \"azureml.scriptrun\", \"training_percent\": \"100\", \"start_time\": \"2021-02-12T19:19:58.6883Z\", \"end_time\": \"2021-02-12T19:20:52.296469Z\", \"created_time\": \"2021-02-12T19:18:08.011332Z\", \"created_time_dt\": \"2021-02-12T19:18:08.011332Z\", \"duration\": \"0:02:44\", \"iteration\": \"3\", \"goal\": \"accuracy_max\", \"run_name\": \"MinMaxScaler, RandomForest\", \"run_properties\": \"copy=True, feature_range=(0, 1\", \"primary_metric\": 0.8184322, \"best_metric\": 0.86497175}, {\"run_id\": \"AutoML_24db30fe-a126-43b9-b900-a49cf87f1bb6_4\", \"run_number\": 9, \"metric\": null, \"status\": \"Completed\", \"run_type\": \"azureml.scriptrun\", \"training_percent\": \"100\", \"start_time\": \"2021-02-12T19:20:09.272349Z\", \"end_time\": \"2021-02-12T19:25:30.787262Z\", \"created_time\": \"2021-02-12T19:19:04.689518Z\", \"created_time_dt\": \"2021-02-12T19:19:04.689518Z\", \"duration\": \"0:06:26\", \"iteration\": \"4\", \"goal\": \"accuracy_max\", \"run_name\": \"MinMaxScaler, RandomForest\", \"run_properties\": \"copy=True, feature_range=(0, 1\", \"primary_metric\": 0.8480226, \"best_metric\": 0.86497175}, {\"run_id\": \"AutoML_24db30fe-a126-43b9-b900-a49cf87f1bb6_5\", \"run_number\": 10, \"metric\": null, \"status\": \"Completed\", \"run_type\": \"azureml.scriptrun\", \"training_percent\": \"100\", \"start_time\": \"2021-02-12T19:20:14.314138Z\", \"end_time\": \"2021-02-12T19:25:29.198038Z\", \"created_time\": \"2021-02-12T19:20:02.025901Z\", \"created_time_dt\": \"2021-02-12T19:20:02.025901Z\", \"duration\": \"0:05:27\", \"iteration\": \"5\", \"goal\": \"accuracy_max\", \"run_name\": \"RobustScaler, LightGBM\", \"run_properties\": \"copy=True, quantile_range=[25, 75], with_centering=True,\\n             with_scaling=False\", \"primary_metric\": 0.86483051, \"best_metric\": 0.86497175}, {\"run_id\": \"AutoML_24db30fe-a126-43b9-b900-a49cf87f1bb6_6\", \"run_number\": 11, \"metric\": null, \"status\": \"Completed\", \"run_type\": \"azureml.scriptrun\", \"training_percent\": \"100\", \"start_time\": \"2021-02-12T19:21:06.246875Z\", \"end_time\": \"2021-02-12T19:21:58.169734Z\", \"created_time\": \"2021-02-12T19:20:54.73347Z\", \"created_time_dt\": \"2021-02-12T19:20:54.73347Z\", \"duration\": \"0:01:03\", \"iteration\": \"6\", \"goal\": \"accuracy_max\", \"run_name\": \"MinMaxScaler, SVM\", \"run_properties\": \"copy=True, feature_range=(0, 1\", \"primary_metric\": 0.74237288, \"best_metric\": 0.86497175}, {\"run_id\": \"AutoML_24db30fe-a126-43b9-b900-a49cf87f1bb6_7\", \"run_number\": 12, \"metric\": null, \"status\": \"Completed\", \"run_type\": \"azureml.scriptrun\", \"training_percent\": \"100\", \"start_time\": \"2021-02-12T19:22:15.99953Z\", \"end_time\": \"2021-02-12T19:23:08.663535Z\", \"created_time\": \"2021-02-12T19:22:02.335883Z\", \"created_time_dt\": \"2021-02-12T19:22:02.335883Z\", \"duration\": \"0:01:06\", \"iteration\": \"7\", \"goal\": \"accuracy_max\", \"run_name\": \"MaxAbsScaler, GradientBoosting\", \"run_properties\": \"copy=True\", \"primary_metric\": 0.85642655, \"best_metric\": 0.86497175}, {\"run_id\": \"AutoML_24db30fe-a126-43b9-b900-a49cf87f1bb6_8\", \"run_number\": 13, \"metric\": null, \"status\": \"Completed\", \"run_type\": \"azureml.scriptrun\", \"training_percent\": \"100\", \"start_time\": \"2021-02-12T19:23:24.725251Z\", \"end_time\": \"2021-02-12T19:24:21.72563Z\", \"created_time\": \"2021-02-12T19:23:12.233825Z\", \"created_time_dt\": \"2021-02-12T19:23:12.233825Z\", \"duration\": \"0:01:09\", \"iteration\": \"8\", \"goal\": \"accuracy_max\", \"run_name\": \"StandardScalerWrapper, RandomForest\", \"run_properties\": \"<azureml.automl.runtime.shared.model_wrappers.StandardScalerWrapper object at 0x7ff88052ff28\", \"primary_metric\": 0.84809322, \"best_metric\": 0.86497175}, {\"run_id\": \"AutoML_24db30fe-a126-43b9-b900-a49cf87f1bb6_9\", \"run_number\": 14, \"metric\": null, \"status\": \"Completed\", \"run_type\": \"azureml.scriptrun\", \"training_percent\": \"100\", \"start_time\": \"2021-02-12T19:24:36.201389Z\", \"end_time\": \"2021-02-12T19:25:34.389627Z\", \"created_time\": \"2021-02-12T19:24:24.403769Z\", \"created_time_dt\": \"2021-02-12T19:24:24.403769Z\", \"duration\": \"0:01:09\", \"iteration\": \"9\", \"goal\": \"accuracy_max\", \"run_name\": \"RobustScaler, RandomForest\", \"run_properties\": \"copy=True, quantile_range=[10, 90], with_centering=True,\\n             with_scaling=True\", \"primary_metric\": 0.86483051, \"best_metric\": 0.86497175}, {\"run_id\": \"AutoML_24db30fe-a126-43b9-b900-a49cf87f1bb6_10\", \"run_number\": 15, \"metric\": null, \"status\": \"Completed\", \"run_type\": \"azureml.scriptrun\", \"training_percent\": \"100\", \"start_time\": \"2021-02-12T19:25:44.997085Z\", \"end_time\": \"2021-02-12T19:26:43.030239Z\", \"created_time\": \"2021-02-12T19:25:32.0452Z\", \"created_time_dt\": \"2021-02-12T19:25:32.0452Z\", \"duration\": \"0:01:10\", \"iteration\": \"10\", \"goal\": \"accuracy_max\", \"run_name\": \"SparseNormalizer, XGBoostClassifier\", \"run_properties\": \"<azureml.automl.runtime.shared.model_wrappers.SparseNormalizer object at 0x7faf948c1b38\", \"primary_metric\": 0.83933616, \"best_metric\": 0.86497175}, {\"run_id\": \"AutoML_24db30fe-a126-43b9-b900-a49cf87f1bb6_12\", \"run_number\": 16, \"metric\": null, \"status\": \"Completed\", \"run_type\": \"azureml.scriptrun\", \"training_percent\": \"100\", \"start_time\": \"2021-02-12T19:25:51.204925Z\", \"end_time\": \"2021-02-12T19:26:40.550384Z\", \"created_time\": \"2021-02-12T19:25:37.430318Z\", \"created_time_dt\": \"2021-02-12T19:25:37.430318Z\", \"duration\": \"0:01:03\", \"iteration\": \"12\", \"goal\": \"accuracy_max\", \"run_name\": \"SparseNormalizer, XGBoostClassifier\", \"run_properties\": \"<azureml.automl.runtime.shared.model_wrappers.SparseNormalizer object at 0x7fb46e946a58\", \"primary_metric\": 0.82676554, \"best_metric\": 0.86497175}, {\"run_id\": \"AutoML_24db30fe-a126-43b9-b900-a49cf87f1bb6_11\", \"run_number\": 17, \"metric\": null, \"status\": \"Completed\", \"run_type\": \"azureml.scriptrun\", \"training_percent\": \"100\", \"start_time\": \"2021-02-12T19:25:50.167756Z\", \"end_time\": \"2021-02-12T19:26:36.164476Z\", \"created_time\": \"2021-02-12T19:25:37.467213Z\", \"created_time_dt\": \"2021-02-12T19:25:37.467213Z\", \"duration\": \"0:00:58\", \"iteration\": \"11\", \"goal\": \"accuracy_max\", \"run_name\": \"SparseNormalizer, LightGBM\", \"run_properties\": \"<azureml.automl.runtime.shared.model_wrappers.SparseNormalizer object at 0x7f635b41a320\", \"primary_metric\": 0.85204802, \"best_metric\": 0.86497175}, {\"run_id\": \"AutoML_24db30fe-a126-43b9-b900-a49cf87f1bb6_13\", \"run_number\": 18, \"metric\": null, \"status\": \"Completed\", \"run_type\": \"azureml.scriptrun\", \"training_percent\": \"100\", \"start_time\": \"2021-02-12T19:26:51.028272Z\", \"end_time\": \"2021-02-12T19:27:38.966301Z\", \"created_time\": \"2021-02-12T19:26:40.054478Z\", \"created_time_dt\": \"2021-02-12T19:26:40.054478Z\", \"duration\": \"0:00:58\", \"iteration\": \"13\", \"goal\": \"accuracy_max\", \"run_name\": \"RobustScaler, ExtremeRandomTrees\", \"run_properties\": \"copy=True, quantile_range=[25, 75], with_centering=True,\\n             with_scaling=False\", \"primary_metric\": 0.86066384, \"best_metric\": 0.86497175}, {\"run_id\": \"AutoML_24db30fe-a126-43b9-b900-a49cf87f1bb6_14\", \"run_number\": 19, \"metric\": null, \"status\": \"Completed\", \"run_type\": \"azureml.scriptrun\", \"training_percent\": \"100\", \"start_time\": \"2021-02-12T19:26:55.293973Z\", \"end_time\": \"2021-02-12T19:27:49.785303Z\", \"created_time\": \"2021-02-12T19:26:43.870896Z\", \"created_time_dt\": \"2021-02-12T19:26:43.870896Z\", \"duration\": \"0:01:05\", \"iteration\": \"14\", \"goal\": \"accuracy_max\", \"run_name\": \"MaxAbsScaler, LightGBM\", \"run_properties\": \"copy=True\", \"primary_metric\": 0.84392655, \"best_metric\": 0.86497175}, {\"run_id\": \"AutoML_24db30fe-a126-43b9-b900-a49cf87f1bb6_15\", \"run_number\": 20, \"metric\": null, \"status\": \"Completed\", \"run_type\": \"azureml.scriptrun\", \"training_percent\": \"100\", \"start_time\": \"2021-02-12T19:26:59.644945Z\", \"end_time\": \"2021-02-12T19:27:57.758926Z\", \"created_time\": \"2021-02-12T19:26:47.691466Z\", \"created_time_dt\": \"2021-02-12T19:26:47.691466Z\", \"duration\": \"0:01:10\", \"iteration\": \"15\", \"goal\": \"accuracy_max\", \"run_name\": \"RobustScaler, ExtremeRandomTrees\", \"run_properties\": \"copy=True, quantile_range=[25, 75], with_centering=True,\\n             with_scaling=False\", \"primary_metric\": 0.85642655, \"best_metric\": 0.86497175}, {\"run_id\": \"AutoML_24db30fe-a126-43b9-b900-a49cf87f1bb6_16\", \"run_number\": 21, \"metric\": null, \"status\": \"Completed\", \"run_type\": \"azureml.scriptrun\", \"training_percent\": \"100\", \"start_time\": \"2021-02-12T19:27:53.804518Z\", \"end_time\": \"2021-02-12T19:28:45.946169Z\", \"created_time\": \"2021-02-12T19:27:41.322477Z\", \"created_time_dt\": \"2021-02-12T19:27:41.322477Z\", \"duration\": \"0:01:04\", \"iteration\": \"16\", \"goal\": \"accuracy_max\", \"run_name\": \"SparseNormalizer, XGBoostClassifier\", \"run_properties\": \"<azureml.automl.runtime.shared.model_wrappers.SparseNormalizer object at 0x7f655a7c68d0\", \"primary_metric\": 0.81002825, \"best_metric\": 0.86497175}, {\"run_id\": \"AutoML_24db30fe-a126-43b9-b900-a49cf87f1bb6_17\", \"run_number\": 22, \"metric\": null, \"status\": \"Completed\", \"run_type\": \"azureml.scriptrun\", \"training_percent\": \"100\", \"start_time\": \"2021-02-12T19:28:02.743208Z\", \"end_time\": \"2021-02-12T19:28:57.941584Z\", \"created_time\": \"2021-02-12T19:27:52.097928Z\", \"created_time_dt\": \"2021-02-12T19:27:52.097928Z\", \"duration\": \"0:01:05\", \"iteration\": \"17\", \"goal\": \"accuracy_max\", \"run_name\": \"StandardScalerWrapper, ExtremeRandomTrees\", \"run_properties\": \"<azureml.automl.runtime.shared.model_wrappers.StandardScalerWrapper object at 0x7f5de7cc0d30\", \"primary_metric\": 0.86497175, \"best_metric\": 0.86497175}, {\"run_id\": \"AutoML_24db30fe-a126-43b9-b900-a49cf87f1bb6_18\", \"run_number\": 23, \"metric\": null, \"status\": \"Completed\", \"run_type\": \"azureml.scriptrun\", \"training_percent\": \"100\", \"start_time\": \"2021-02-12T19:28:14.424231Z\", \"end_time\": \"2021-02-12T19:29:07.18104Z\", \"created_time\": \"2021-02-12T19:28:00.047637Z\", \"created_time_dt\": \"2021-02-12T19:28:00.047637Z\", \"duration\": \"0:01:07\", \"iteration\": \"18\", \"goal\": \"accuracy_max\", \"run_name\": \"StandardScalerWrapper, XGBoostClassifier\", \"run_properties\": \"<azureml.automl.runtime.shared.model_wrappers.StandardScalerWrapper object at 0x7fa602300518\", \"primary_metric\": 0.85635593, \"best_metric\": 0.86497175}, {\"run_id\": \"AutoML_24db30fe-a126-43b9-b900-a49cf87f1bb6_19\", \"run_number\": 24, \"metric\": null, \"status\": \"Completed\", \"run_type\": \"azureml.scriptrun\", \"training_percent\": \"100\", \"start_time\": \"2021-02-12T19:29:00.715766Z\", \"end_time\": \"2021-02-12T19:29:46.832346Z\", \"created_time\": \"2021-02-12T19:28:48.215992Z\", \"created_time_dt\": \"2021-02-12T19:28:48.215992Z\", \"duration\": \"0:00:58\", \"iteration\": \"19\", \"goal\": \"accuracy_max\", \"run_name\": \"StandardScalerWrapper, GradientBoosting\", \"run_properties\": \"<azureml.automl.runtime.shared.model_wrappers.StandardScalerWrapper object at 0x7f1419e04860\", \"primary_metric\": 0.86066384, \"best_metric\": 0.86497175}, {\"run_id\": \"AutoML_24db30fe-a126-43b9-b900-a49cf87f1bb6_20\", \"run_number\": 25, \"metric\": null, \"status\": \"Completed\", \"run_type\": \"azureml.scriptrun\", \"training_percent\": \"100\", \"start_time\": \"2021-02-12T19:29:14.205011Z\", \"end_time\": \"2021-02-12T19:30:00.171552Z\", \"created_time\": \"2021-02-12T19:29:00.61793Z\", \"created_time_dt\": \"2021-02-12T19:29:00.61793Z\", \"duration\": \"0:00:59\", \"iteration\": \"20\", \"goal\": \"accuracy_max\", \"run_name\": \"MaxAbsScaler, GradientBoosting\", \"run_properties\": \"copy=True\", \"primary_metric\": 0.85642655, \"best_metric\": 0.86497175}, {\"run_id\": \"AutoML_24db30fe-a126-43b9-b900-a49cf87f1bb6_21\", \"run_number\": 26, \"metric\": null, \"status\": \"Completed\", \"run_type\": \"azureml.scriptrun\", \"training_percent\": \"100\", \"start_time\": \"2021-02-12T19:29:23.857462Z\", \"end_time\": \"2021-02-12T19:30:18.646606Z\", \"created_time\": \"2021-02-12T19:29:10.910828Z\", \"created_time_dt\": \"2021-02-12T19:29:10.910828Z\", \"duration\": \"0:01:07\", \"iteration\": \"21\", \"goal\": \"accuracy_max\", \"run_name\": \"StandardScalerWrapper, LightGBM\", \"run_properties\": \"<azureml.automl.runtime.shared.model_wrappers.StandardScalerWrapper object at 0x7f70f2a39668\", \"primary_metric\": 0.81426554, \"best_metric\": 0.86497175}, {\"run_id\": \"AutoML_24db30fe-a126-43b9-b900-a49cf87f1bb6_22\", \"run_number\": 27, \"metric\": null, \"status\": \"Completed\", \"run_type\": \"azureml.scriptrun\", \"training_percent\": \"100\", \"start_time\": \"2021-02-12T19:30:02.19213Z\", \"end_time\": \"2021-02-12T19:30:45.394743Z\", \"created_time\": \"2021-02-12T19:29:49.272562Z\", \"created_time_dt\": \"2021-02-12T19:29:49.272562Z\", \"duration\": \"0:00:56\", \"iteration\": \"22\", \"goal\": \"accuracy_max\", \"run_name\": \"StandardScalerWrapper, LightGBM\", \"run_properties\": \"<azureml.automl.runtime.shared.model_wrappers.StandardScalerWrapper object at 0x7fdef5c4e748\", \"primary_metric\": 0.82690678, \"best_metric\": 0.86497175}, {\"run_id\": \"AutoML_24db30fe-a126-43b9-b900-a49cf87f1bb6_23\", \"run_number\": 28, \"metric\": null, \"status\": \"Completed\", \"run_type\": \"azureml.scriptrun\", \"training_percent\": \"100\", \"start_time\": \"2021-02-12T19:30:13.529802Z\", \"end_time\": \"2021-02-12T19:31:12.395128Z\", \"created_time\": \"2021-02-12T19:30:02.330557Z\", \"created_time_dt\": \"2021-02-12T19:30:02.330557Z\", \"duration\": \"0:01:10\", \"iteration\": \"23\", \"goal\": \"accuracy_max\", \"run_name\": \"StandardScalerWrapper, LightGBM\", \"run_properties\": \"<azureml.automl.runtime.shared.model_wrappers.StandardScalerWrapper object at 0x7fb307628dd8\", \"primary_metric\": 0.87330508, \"best_metric\": 0.87330508}, {\"run_id\": \"AutoML_24db30fe-a126-43b9-b900-a49cf87f1bb6_24\", \"run_number\": 29, \"metric\": null, \"status\": \"Completed\", \"run_type\": \"azureml.scriptrun\", \"training_percent\": \"100\", \"start_time\": \"2021-02-12T19:30:32.498571Z\", \"end_time\": \"2021-02-12T19:31:26.043331Z\", \"created_time\": \"2021-02-12T19:30:21.689936Z\", \"created_time_dt\": \"2021-02-12T19:30:21.689936Z\", \"duration\": \"0:01:04\", \"iteration\": \"24\", \"goal\": \"accuracy_max\", \"run_name\": \"StandardScalerWrapper, LightGBM\", \"run_properties\": \"<azureml.automl.runtime.shared.model_wrappers.StandardScalerWrapper object at 0x7f20fd288cc0\", \"primary_metric\": 0.85225989, \"best_metric\": 0.87330508}, {\"run_id\": \"AutoML_24db30fe-a126-43b9-b900-a49cf87f1bb6_25\", \"run_number\": 30, \"metric\": null, \"status\": \"Completed\", \"run_type\": \"azureml.scriptrun\", \"training_percent\": \"100\", \"start_time\": \"2021-02-12T19:31:00.767371Z\", \"end_time\": \"2021-02-12T19:31:51.202277Z\", \"created_time\": \"2021-02-12T19:30:48.869103Z\", \"created_time_dt\": \"2021-02-12T19:30:48.869103Z\", \"duration\": \"0:01:02\", \"iteration\": \"25\", \"goal\": \"accuracy_max\", \"run_name\": \"TruncatedSVDWrapper, ExtremeRandomTrees\", \"run_properties\": \"n_components=0.01, random_state=None\", \"primary_metric\": 0.48086158, \"best_metric\": 0.87330508}, {\"run_id\": \"AutoML_24db30fe-a126-43b9-b900-a49cf87f1bb6_26\", \"run_number\": 31, \"metric\": null, \"status\": \"Completed\", \"run_type\": \"azureml.scriptrun\", \"training_percent\": \"100\", \"start_time\": \"2021-02-12T19:31:29.136585Z\", \"end_time\": \"2021-02-12T19:32:21.032415Z\", \"created_time\": \"2021-02-12T19:31:14.71108Z\", \"created_time_dt\": \"2021-02-12T19:31:14.71108Z\", \"duration\": \"0:01:06\", \"iteration\": \"26\", \"goal\": \"accuracy_max\", \"run_name\": \"SparseNormalizer, RandomForest\", \"run_properties\": \"<azureml.automl.runtime.shared.model_wrappers.SparseNormalizer object at 0x7fe39852a828\", \"primary_metric\": 0.82683616, \"best_metric\": 0.87330508}, {\"run_id\": \"AutoML_24db30fe-a126-43b9-b900-a49cf87f1bb6_27\", \"run_number\": 32, \"metric\": null, \"status\": \"Completed\", \"run_type\": \"azureml.scriptrun\", \"training_percent\": \"100\", \"start_time\": \"2021-02-12T19:31:42.656074Z\", \"end_time\": \"2021-02-12T19:32:33.372632Z\", \"created_time\": \"2021-02-12T19:31:28.732769Z\", \"created_time_dt\": \"2021-02-12T19:31:28.732769Z\", \"duration\": \"0:01:04\", \"iteration\": \"27\", \"goal\": \"accuracy_max\", \"run_name\": \"MaxAbsScaler, RandomForest\", \"run_properties\": \"copy=True\", \"primary_metric\": 0.83114407, \"best_metric\": 0.87330508}, {\"run_id\": \"AutoML_24db30fe-a126-43b9-b900-a49cf87f1bb6_28\", \"run_number\": 33, \"metric\": null, \"status\": \"Completed\", \"run_type\": \"azureml.scriptrun\", \"training_percent\": \"100\", \"start_time\": \"2021-02-12T19:32:06.949472Z\", \"end_time\": \"2021-02-12T19:32:57.360338Z\", \"created_time\": \"2021-02-12T19:31:54.380014Z\", \"created_time_dt\": \"2021-02-12T19:31:54.380014Z\", \"duration\": \"0:01:02\", \"iteration\": \"28\", \"goal\": \"accuracy_max\", \"run_name\": \"MaxAbsScaler, LightGBM\", \"run_properties\": \"copy=True\", \"primary_metric\": 0.82690678, \"best_metric\": 0.87330508}, {\"run_id\": \"AutoML_24db30fe-a126-43b9-b900-a49cf87f1bb6_29\", \"run_number\": 34, \"metric\": null, \"status\": \"Completed\", \"run_type\": \"azureml.scriptrun\", \"training_percent\": \"100\", \"start_time\": \"2021-02-12T19:32:34.263543Z\", \"end_time\": \"2021-02-12T19:33:21.972347Z\", \"created_time\": \"2021-02-12T19:32:23.249147Z\", \"created_time_dt\": \"2021-02-12T19:32:23.249147Z\", \"duration\": \"0:00:58\", \"iteration\": \"29\", \"goal\": \"accuracy_max\", \"run_name\": \"StandardScalerWrapper, LightGBM\", \"run_properties\": \"<azureml.automl.runtime.shared.model_wrappers.StandardScalerWrapper object at 0x7f04a8b81e48\", \"primary_metric\": 0.86490113, \"best_metric\": 0.87330508}, {\"run_id\": \"AutoML_24db30fe-a126-43b9-b900-a49cf87f1bb6_30\", \"run_number\": 35, \"metric\": null, \"status\": \"Completed\", \"run_type\": \"azureml.scriptrun\", \"training_percent\": \"100\", \"start_time\": \"2021-02-12T19:32:48.209805Z\", \"end_time\": \"2021-02-12T19:33:35.939903Z\", \"created_time\": \"2021-02-12T19:32:36.596129Z\", \"created_time_dt\": \"2021-02-12T19:32:36.596129Z\", \"duration\": \"0:00:59\", \"iteration\": \"30\", \"goal\": \"accuracy_max\", \"run_name\": \"SparseNormalizer, LightGBM\", \"run_properties\": \"<azureml.automl.runtime.shared.model_wrappers.SparseNormalizer object at 0x7f17242aad30\", \"primary_metric\": 0.75487288, \"best_metric\": 0.87330508}, {\"run_id\": \"AutoML_24db30fe-a126-43b9-b900-a49cf87f1bb6_31\", \"run_number\": 36, \"metric\": null, \"status\": \"Completed\", \"run_type\": \"azureml.scriptrun\", \"training_percent\": \"100\", \"start_time\": \"2021-02-12T19:33:10.134004Z\", \"end_time\": \"2021-02-12T19:33:59.094414Z\", \"created_time\": \"2021-02-12T19:32:59.673786Z\", \"created_time_dt\": \"2021-02-12T19:32:59.673786Z\", \"duration\": \"0:00:59\", \"iteration\": \"31\", \"goal\": \"accuracy_max\", \"run_name\": \"MaxAbsScaler, LightGBM\", \"run_properties\": \"copy=True\", \"primary_metric\": 0.84371469, \"best_metric\": 0.87330508}, {\"run_id\": \"AutoML_24db30fe-a126-43b9-b900-a49cf87f1bb6_32\", \"run_number\": 37, \"metric\": null, \"status\": \"Completed\", \"run_type\": \"azureml.scriptrun\", \"training_percent\": \"100\", \"start_time\": \"2021-02-12T19:33:37.12061Z\", \"end_time\": \"2021-02-12T19:34:26.648316Z\", \"created_time\": \"2021-02-12T19:33:24.168795Z\", \"created_time_dt\": \"2021-02-12T19:33:24.168795Z\", \"duration\": \"0:01:02\", \"iteration\": \"32\", \"goal\": \"accuracy_max\", \"run_name\": \"StandardScalerWrapper, LightGBM\", \"run_properties\": \"<azureml.automl.runtime.shared.model_wrappers.StandardScalerWrapper object at 0x7f5c7c475ef0\", \"primary_metric\": 0.82683616, \"best_metric\": 0.87330508}, {\"run_id\": \"AutoML_24db30fe-a126-43b9-b900-a49cf87f1bb6_33\", \"run_number\": 38, \"metric\": null, \"status\": \"Completed\", \"run_type\": \"azureml.scriptrun\", \"training_percent\": \"100\", \"start_time\": \"2021-02-12T19:33:51.769675Z\", \"end_time\": \"2021-02-12T19:34:38.807199Z\", \"created_time\": \"2021-02-12T19:33:38.253649Z\", \"created_time_dt\": \"2021-02-12T19:33:38.253649Z\", \"duration\": \"0:01:00\", \"iteration\": \"33\", \"goal\": \"accuracy_max\", \"run_name\": \"MaxAbsScaler, LightGBM\", \"run_properties\": \"copy=True\", \"primary_metric\": 0.85211864, \"best_metric\": 0.87330508}, {\"run_id\": \"AutoML_24db30fe-a126-43b9-b900-a49cf87f1bb6_34\", \"run_number\": 39, \"metric\": null, \"status\": \"Completed\", \"run_type\": \"azureml.scriptrun\", \"training_percent\": \"100\", \"start_time\": \"2021-02-12T19:34:13.972121Z\", \"end_time\": \"2021-02-12T19:35:06.539027Z\", \"created_time\": \"2021-02-12T19:34:01.398654Z\", \"created_time_dt\": \"2021-02-12T19:34:01.398654Z\", \"duration\": \"0:01:05\", \"iteration\": \"34\", \"goal\": \"accuracy_max\", \"run_name\": \"MaxAbsScaler, LightGBM\", \"run_properties\": \"copy=True\", \"primary_metric\": 0.86066384, \"best_metric\": 0.87330508}, {\"run_id\": \"AutoML_24db30fe-a126-43b9-b900-a49cf87f1bb6_35\", \"run_number\": 40, \"metric\": null, \"status\": \"Completed\", \"run_type\": \"azureml.scriptrun\", \"training_percent\": \"100\", \"start_time\": \"2021-02-12T19:34:43.58099Z\", \"end_time\": \"2021-02-12T19:35:35.742902Z\", \"created_time\": \"2021-02-12T19:34:30.393381Z\", \"created_time_dt\": \"2021-02-12T19:34:30.393381Z\", \"duration\": \"0:01:05\", \"iteration\": \"35\", \"goal\": \"accuracy_max\", \"run_name\": \"MaxAbsScaler, LightGBM\", \"run_properties\": \"copy=True\", \"primary_metric\": 0.84788136, \"best_metric\": 0.87330508}, {\"run_id\": \"AutoML_24db30fe-a126-43b9-b900-a49cf87f1bb6_36\", \"run_number\": 41, \"metric\": null, \"status\": \"Canceled\", \"run_type\": \"azureml.scriptrun\", \"training_percent\": \"100\", \"start_time\": \"2021-02-12T19:34:54.359188Z\", \"end_time\": \"2021-02-12T19:35:44.662008Z\", \"created_time\": \"2021-02-12T19:34:41.218757Z\", \"created_time_dt\": \"2021-02-12T19:34:41.218757Z\", \"duration\": \"0:01:03\", \"iteration\": \"36\", \"goal\": \"accuracy_max\", \"run_name\": \"StandardScalerWrapper, RandomForest\", \"run_properties\": \"<azureml.automl.runtime.shared.model_wrappers.StandardScalerWrapper object at 0x7f8fd579f390\", \"primary_metric\": 0.85233051, \"best_metric\": 0.87330508}, {\"run_id\": \"AutoML_24db30fe-a126-43b9-b900-a49cf87f1bb6_37\", \"run_number\": 42, \"metric\": null, \"status\": \"Canceled\", \"run_type\": \"azureml.scriptrun\", \"training_percent\": \"100\", \"start_time\": \"2021-02-12T19:35:20.562783Z\", \"end_time\": \"2021-02-12T19:35:45.265195Z\", \"created_time\": \"2021-02-12T19:35:08.770277Z\", \"created_time_dt\": \"2021-02-12T19:35:08.770277Z\", \"duration\": \"0:00:36\", \"iteration\": \"37\", \"goal\": null, \"run_name\": \"StandardScalerWrapper, LightGBM\", \"run_properties\": null}, {\"run_id\": \"AutoML_24db30fe-a126-43b9-b900-a49cf87f1bb6_38\", \"run_number\": 43, \"metric\": null, \"status\": \"Completed\", \"run_type\": \"azureml.scriptrun\", \"training_percent\": \"100\", \"start_time\": \"2021-02-12T19:35:58.987867Z\", \"end_time\": \"2021-02-12T19:37:33.871828Z\", \"created_time\": \"2021-02-12T19:35:46.036656Z\", \"created_time_dt\": \"2021-02-12T19:35:46.036656Z\", \"duration\": \"0:01:47\", \"iteration\": \"38\", \"goal\": \"accuracy_max\", \"run_name\": \"VotingEnsemble\", \"run_properties\": \"classification_labels=None,\\n                              estimators=[('23',\\n                                           Pipeline(memory=None,\\n                                                    steps=[('standardscalerwrapper',\\n                                                            <azureml.automl.runtime.shared.model_wrappers.StandardScalerWrapper object at 0x7f66cbc3bcf8>\", \"primary_metric\": 0.88594633, \"best_metric\": 0.88594633}, {\"run_id\": \"AutoML_24db30fe-a126-43b9-b900-a49cf87f1bb6_39\", \"run_number\": 44, \"metric\": null, \"status\": \"Completed\", \"run_type\": \"azureml.scriptrun\", \"training_percent\": \"100\", \"start_time\": \"2021-02-12T19:35:58.310861Z\", \"end_time\": \"2021-02-12T19:37:30.091736Z\", \"created_time\": \"2021-02-12T19:35:46.156333Z\", \"created_time_dt\": \"2021-02-12T19:35:46.156333Z\", \"duration\": \"0:01:43\", \"iteration\": \"39\", \"goal\": \"accuracy_max\", \"run_name\": \"StackEnsemble\", \"run_properties\": \"base_learners=[('23',\\n                                        Pipeline(memory=None,\\n                                                 steps=[('standardscalerwrapper',\\n                                                         <azureml.automl.runtime.shared.model_wrappers.StandardScalerWrapper object at 0x7f9b98972a58>\", \"primary_metric\": 0.8690678, \"best_metric\": 0.88594633}], \"children_metrics\": {\"categories\": [0], \"series\": {\"recall_score_micro\": [{\"categories\": [\"0\", \"1\", \"2\", \"3\", \"4\", \"5\", \"6\", \"7\", \"8\", \"9\", \"10\", \"11\", \"12\", \"13\", \"14\", \"15\", \"16\", \"17\", \"18\", \"19\", \"20\", \"21\", \"22\", \"23\", \"24\", \"25\", \"26\", \"27\", \"28\", \"29\", \"30\", \"31\", \"32\", \"33\", \"34\", \"35\", \"36\", \"38\", \"39\"], \"mode\": \"markers\", \"name\": \"recall_score_micro\", \"stepped\": false, \"type\": \"scatter\", \"data\": [0.8310734463276835, 0.8521892655367231, 0.8649717514124293, 0.8184322033898305, 0.8480225988700565, 0.8648305084745762, 0.7423728813559323, 0.8564265536723163, 0.848093220338983, 0.8648305084745762, 0.8393361581920904, 0.85204802259887, 0.8267655367231639, 0.8606638418079096, 0.8439265536723164, 0.8564265536723163, 0.8100282485875706, 0.8649717514124294, 0.8563559322033898, 0.8606638418079096, 0.8564265536723163, 0.8142655367231639, 0.826906779661017, 0.8733050847457627, 0.8522598870056497, 0.480861581920904, 0.8268361581920903, 0.8311440677966101, 0.826906779661017, 0.8649011299435028, 0.7548728813559322, 0.8437146892655367, 0.8268361581920904, 0.8521186440677966, 0.8606638418079096, 0.8478813559322034, 0.8523305084745763, 0.8859463276836159, 0.8690677966101696]}, {\"categories\": [\"0\", \"1\", \"2\", \"3\", \"4\", \"5\", \"6\", \"7\", \"8\", \"9\", \"10\", \"11\", \"12\", \"13\", \"14\", \"15\", \"16\", \"17\", \"18\", \"19\", \"20\", \"21\", \"22\", \"23\", \"24\", \"25\", \"26\", \"27\", \"28\", \"29\", \"30\", \"31\", \"32\", \"33\", \"34\", \"35\", \"36\", \"38\", \"39\"], \"mode\": \"lines\", \"name\": \"recall_score_micro_max\", \"stepped\": true, \"type\": \"scatter\", \"data\": [0.8310734463276835, 0.8521892655367231, 0.8649717514124293, 0.8649717514124293, 0.8649717514124293, 0.8649717514124293, 0.8649717514124293, 0.8649717514124293, 0.8649717514124293, 0.8649717514124293, 0.8649717514124293, 0.8649717514124293, 0.8649717514124293, 0.8649717514124293, 0.8649717514124293, 0.8649717514124293, 0.8649717514124293, 0.8649717514124294, 0.8649717514124294, 0.8649717514124294, 0.8649717514124294, 0.8649717514124294, 0.8649717514124294, 0.8733050847457627, 0.8733050847457627, 0.8733050847457627, 0.8733050847457627, 0.8733050847457627, 0.8733050847457627, 0.8733050847457627, 0.8733050847457627, 0.8733050847457627, 0.8733050847457627, 0.8733050847457627, 0.8733050847457627, 0.8733050847457627, 0.8733050847457627, 0.8859463276836159, 0.8859463276836159]}], \"f1_score_macro\": [{\"categories\": [\"0\", \"1\", \"2\", \"3\", \"4\", \"5\", \"6\", \"7\", \"8\", \"9\", \"10\", \"11\", \"12\", \"13\", \"14\", \"15\", \"16\", \"17\", \"18\", \"19\", \"20\", \"21\", \"22\", \"23\", \"24\", \"25\", \"26\", \"27\", \"28\", \"29\", \"30\", \"31\", \"32\", \"33\", \"34\", \"35\", \"36\", \"38\", \"39\"], \"mode\": \"markers\", \"name\": \"f1_score_macro\", \"stepped\": false, \"type\": \"scatter\", \"data\": [0.798270593681986, 0.8273368148822359, 0.8378626223105279, 0.782239773145389, 0.8185123942174155, 0.8364010511207525, 0.6635561435113382, 0.8246502901606431, 0.8126561601802664, 0.8359948161941133, 0.810147957246828, 0.8216024242072513, 0.7924663592303562, 0.824279848557564, 0.8034879821537089, 0.8126605743972231, 0.772831554662639, 0.8276589184060721, 0.8255791409065252, 0.8330235179842163, 0.8207273410420113, 0.748300431849043, 0.7763078973625506, 0.8496500482983764, 0.8228158191867869, 0.437343582283878, 0.8010280612656094, 0.8059865297204882, 0.7721894434491579, 0.835551616173402, 0.6633438097466767, 0.8074934211322461, 0.7862023974758416, 0.8159322052826811, 0.831702464579704, 0.8138735044901708, 0.8197676229221575, 0.8630064165593307, 0.8412510830644753]}, {\"categories\": [\"0\", \"1\", \"2\", \"3\", \"4\", \"5\", \"6\", \"7\", \"8\", \"9\", \"10\", \"11\", \"12\", \"13\", \"14\", \"15\", \"16\", \"17\", \"18\", \"19\", \"20\", \"21\", \"22\", \"23\", \"24\", \"25\", \"26\", \"27\", \"28\", \"29\", \"30\", \"31\", \"32\", \"33\", \"34\", \"35\", \"36\", \"38\", \"39\"], \"mode\": \"lines\", \"name\": \"f1_score_macro_max\", \"stepped\": true, \"type\": \"scatter\", \"data\": [0.798270593681986, 0.8273368148822359, 0.8378626223105279, 0.8378626223105279, 0.8378626223105279, 0.8378626223105279, 0.8378626223105279, 0.8378626223105279, 0.8378626223105279, 0.8378626223105279, 0.8378626223105279, 0.8378626223105279, 0.8378626223105279, 0.8378626223105279, 0.8378626223105279, 0.8378626223105279, 0.8378626223105279, 0.8378626223105279, 0.8378626223105279, 0.8378626223105279, 0.8378626223105279, 0.8378626223105279, 0.8378626223105279, 0.8496500482983764, 0.8496500482983764, 0.8496500482983764, 0.8496500482983764, 0.8496500482983764, 0.8496500482983764, 0.8496500482983764, 0.8496500482983764, 0.8496500482983764, 0.8496500482983764, 0.8496500482983764, 0.8496500482983764, 0.8496500482983764, 0.8496500482983764, 0.8630064165593307, 0.8630064165593307]}], \"precision_score_micro\": [{\"categories\": [\"0\", \"1\", \"2\", \"3\", \"4\", \"5\", \"6\", \"7\", \"8\", \"9\", \"10\", \"11\", \"12\", \"13\", \"14\", \"15\", \"16\", \"17\", \"18\", \"19\", \"20\", \"21\", \"22\", \"23\", \"24\", \"25\", \"26\", \"27\", \"28\", \"29\", \"30\", \"31\", \"32\", \"33\", \"34\", \"35\", \"36\", \"38\", \"39\"], \"mode\": \"markers\", \"name\": \"precision_score_micro\", \"stepped\": false, \"type\": \"scatter\", \"data\": [0.8310734463276835, 0.8521892655367231, 0.8649717514124293, 0.8184322033898305, 0.8480225988700565, 0.8648305084745762, 0.7423728813559323, 0.8564265536723163, 0.848093220338983, 0.8648305084745762, 0.8393361581920904, 0.85204802259887, 0.8267655367231639, 0.8606638418079096, 0.8439265536723164, 0.8564265536723163, 0.8100282485875706, 0.8649717514124294, 0.8563559322033898, 0.8606638418079096, 0.8564265536723163, 0.8142655367231639, 0.826906779661017, 0.8733050847457627, 0.8522598870056497, 0.480861581920904, 0.8268361581920903, 0.8311440677966101, 0.826906779661017, 0.8649011299435028, 0.7548728813559322, 0.8437146892655367, 0.8268361581920904, 0.8521186440677966, 0.8606638418079096, 0.8478813559322034, 0.8523305084745763, 0.8859463276836159, 0.8690677966101696]}, {\"categories\": [\"0\", \"1\", \"2\", \"3\", \"4\", \"5\", \"6\", \"7\", \"8\", \"9\", \"10\", \"11\", \"12\", \"13\", \"14\", \"15\", \"16\", \"17\", \"18\", \"19\", \"20\", \"21\", \"22\", \"23\", \"24\", \"25\", \"26\", \"27\", \"28\", \"29\", \"30\", \"31\", \"32\", \"33\", \"34\", \"35\", \"36\", \"38\", \"39\"], \"mode\": \"lines\", \"name\": \"precision_score_micro_max\", \"stepped\": true, \"type\": \"scatter\", \"data\": [0.8310734463276835, 0.8521892655367231, 0.8649717514124293, 0.8649717514124293, 0.8649717514124293, 0.8649717514124293, 0.8649717514124293, 0.8649717514124293, 0.8649717514124293, 0.8649717514124293, 0.8649717514124293, 0.8649717514124293, 0.8649717514124293, 0.8649717514124293, 0.8649717514124293, 0.8649717514124293, 0.8649717514124293, 0.8649717514124294, 0.8649717514124294, 0.8649717514124294, 0.8649717514124294, 0.8649717514124294, 0.8649717514124294, 0.8733050847457627, 0.8733050847457627, 0.8733050847457627, 0.8733050847457627, 0.8733050847457627, 0.8733050847457627, 0.8733050847457627, 0.8733050847457627, 0.8733050847457627, 0.8733050847457627, 0.8733050847457627, 0.8733050847457627, 0.8733050847457627, 0.8733050847457627, 0.8859463276836159, 0.8859463276836159]}], \"log_loss\": [{\"categories\": [\"0\", \"1\", \"2\", \"3\", \"4\", \"5\", \"6\", \"7\", \"8\", \"9\", \"10\", \"11\", \"12\", \"13\", \"14\", \"15\", \"16\", \"17\", \"18\", \"19\", \"20\", \"21\", \"22\", \"23\", \"24\", \"25\", \"26\", \"27\", \"28\", \"29\", \"30\", \"31\", \"32\", \"33\", \"34\", \"35\", \"36\", \"38\", \"39\"], \"mode\": \"markers\", \"name\": \"log_loss\", \"stepped\": false, \"type\": \"scatter\", \"data\": [0.4080009848800518, 0.3369449037265871, 0.36431768494171024, 0.3901173921429879, 0.34965304648499845, 0.34624602784510417, 0.5670810923119297, 0.3372368196157859, 0.3898310417702457, 0.34294679883923945, 0.3780511036823662, 0.37176632165301576, 0.4832381616220263, 0.39151441984908586, 0.4126913536620966, 0.4038648873578804, 0.38493854122149085, 0.42382749085536675, 0.4715002545542075, 0.3377074366606613, 0.3764348815136757, 0.44852346909075297, 0.45533331558071205, 0.36855274810320804, 0.3455268194604429, 0.6931577430129006, 0.4064992207860281, 0.4362539234758499, 0.45485248379321697, 0.35581905919404067, 0.49649555038649673, 0.44063768220318156, 0.37233280281145054, 0.4272944782700659, 0.3680599447175456, 0.4100149134448309, 0.3754960107924624, 0.3462589291243316, 0.35120580713814276]}, {\"categories\": [\"0\", \"1\", \"2\", \"3\", \"4\", \"5\", \"6\", \"7\", \"8\", \"9\", \"10\", \"11\", \"12\", \"13\", \"14\", \"15\", \"16\", \"17\", \"18\", \"19\", \"20\", \"21\", \"22\", \"23\", \"24\", \"25\", \"26\", \"27\", \"28\", \"29\", \"30\", \"31\", \"32\", \"33\", \"34\", \"35\", \"36\", \"38\", \"39\"], \"mode\": \"lines\", \"name\": \"log_loss_min\", \"stepped\": true, \"type\": \"scatter\", \"data\": [0.4080009848800518, 0.3369449037265871, 0.3369449037265871, 0.3369449037265871, 0.3369449037265871, 0.3369449037265871, 0.3369449037265871, 0.3369449037265871, 0.3369449037265871, 0.3369449037265871, 0.3369449037265871, 0.3369449037265871, 0.3369449037265871, 0.3369449037265871, 0.3369449037265871, 0.3369449037265871, 0.3369449037265871, 0.3369449037265871, 0.3369449037265871, 0.3369449037265871, 0.3369449037265871, 0.3369449037265871, 0.3369449037265871, 0.3369449037265871, 0.3369449037265871, 0.3369449037265871, 0.3369449037265871, 0.3369449037265871, 0.3369449037265871, 0.3369449037265871, 0.3369449037265871, 0.3369449037265871, 0.3369449037265871, 0.3369449037265871, 0.3369449037265871, 0.3369449037265871, 0.3369449037265871, 0.3369449037265871, 0.3369449037265871]}], \"AUC_macro\": [{\"categories\": [\"0\", \"1\", \"2\", \"3\", \"4\", \"5\", \"6\", \"7\", \"8\", \"9\", \"10\", \"11\", \"12\", \"13\", \"14\", \"15\", \"16\", \"17\", \"18\", \"19\", \"20\", \"21\", \"22\", \"23\", \"24\", \"25\", \"26\", \"27\", \"28\", \"29\", \"30\", \"31\", \"32\", \"33\", \"34\", \"35\", \"36\", \"38\", \"39\"], \"mode\": \"markers\", \"name\": \"AUC_macro\", \"stepped\": false, \"type\": \"scatter\", \"data\": [0.9098873588097727, 0.9282706627789432, 0.899163894748627, 0.9140600898144002, 0.9222097129906794, 0.9144165313034416, 0.7550044721423464, 0.9210835179641894, 0.9187259779379222, 0.9228554197176588, 0.9059895915173252, 0.899531220946829, 0.8780797241110876, 0.897651554434676, 0.9158170087247901, 0.88735372137567, 0.9028325552812281, 0.8991031674831018, 0.9164347282456402, 0.9225581096157323, 0.9097378270486822, 0.891744584407073, 0.9026866377755386, 0.913483464162627, 0.9171849425025469, 0.5206686632333184, 0.9033375791883052, 0.9040101294085527, 0.9206241515246449, 0.9096377286443642, 0.8384285495773132, 0.9053481783170702, 0.9185867927885283, 0.9104714380321232, 0.9159396049227038, 0.9057974968606208, 0.914912198861836, 0.9189199937867133, 0.9184554683633063]}, {\"categories\": [\"0\", \"1\", \"2\", \"3\", \"4\", \"5\", \"6\", \"7\", \"8\", \"9\", \"10\", \"11\", \"12\", \"13\", \"14\", \"15\", \"16\", \"17\", \"18\", \"19\", \"20\", \"21\", \"22\", \"23\", \"24\", \"25\", \"26\", \"27\", \"28\", \"29\", \"30\", \"31\", \"32\", \"33\", \"34\", \"35\", \"36\", \"38\", \"39\"], \"mode\": \"lines\", \"name\": \"AUC_macro_max\", \"stepped\": true, \"type\": \"scatter\", \"data\": [0.9098873588097727, 0.9282706627789432, 0.9282706627789432, 0.9282706627789432, 0.9282706627789432, 0.9282706627789432, 0.9282706627789432, 0.9282706627789432, 0.9282706627789432, 0.9282706627789432, 0.9282706627789432, 0.9282706627789432, 0.9282706627789432, 0.9282706627789432, 0.9282706627789432, 0.9282706627789432, 0.9282706627789432, 0.9282706627789432, 0.9282706627789432, 0.9282706627789432, 0.9282706627789432, 0.9282706627789432, 0.9282706627789432, 0.9282706627789432, 0.9282706627789432, 0.9282706627789432, 0.9282706627789432, 0.9282706627789432, 0.9282706627789432, 0.9282706627789432, 0.9282706627789432, 0.9282706627789432, 0.9282706627789432, 0.9282706627789432, 0.9282706627789432, 0.9282706627789432, 0.9282706627789432, 0.9282706627789432, 0.9282706627789432]}], \"precision_score_weighted\": [{\"categories\": [\"0\", \"1\", \"2\", \"3\", \"4\", \"5\", \"6\", \"7\", \"8\", \"9\", \"10\", \"11\", \"12\", \"13\", \"14\", \"15\", \"16\", \"17\", \"18\", \"19\", \"20\", \"21\", \"22\", \"23\", \"24\", \"25\", \"26\", \"27\", \"28\", \"29\", \"30\", \"31\", \"32\", \"33\", \"34\", \"35\", \"36\", \"38\", \"39\"], \"mode\": \"markers\", \"name\": \"precision_score_weighted\", \"stepped\": false, \"type\": \"scatter\", \"data\": [0.8326156801930568, 0.853195031584862, 0.8682072845977328, 0.8303414830844542, 0.847016070510288, 0.8699267142830149, 0.7476964318974004, 0.8572369403302895, 0.8589343190894807, 0.8694479856572818, 0.8481998552969138, 0.8625057949779977, 0.8342391624978949, 0.8710269450953414, 0.8461416568503977, 0.8690617162714029, 0.8219013724282458, 0.8765353157720464, 0.8612527844860642, 0.8620068118600859, 0.8656677675260085, 0.8441365497862673, 0.8526610812631712, 0.8769130535743197, 0.8528629098242555, 0.47974887778639863, 0.8481976630592885, 0.8393050752476895, 0.853702813799881, 0.8650864696846882, 0.7839895664053917, 0.8460669159600994, 0.8355542367840029, 0.860148214411961, 0.8610866648731431, 0.8534887861813336, 0.8529040132975205, 0.8895830424448218, 0.8744308356980341]}, {\"categories\": [\"0\", \"1\", \"2\", \"3\", \"4\", \"5\", \"6\", \"7\", \"8\", \"9\", \"10\", \"11\", \"12\", \"13\", \"14\", \"15\", \"16\", \"17\", \"18\", \"19\", \"20\", \"21\", \"22\", \"23\", \"24\", \"25\", \"26\", \"27\", \"28\", \"29\", \"30\", \"31\", \"32\", \"33\", \"34\", \"35\", \"36\", \"38\", \"39\"], \"mode\": \"lines\", \"name\": \"precision_score_weighted_max\", \"stepped\": true, \"type\": \"scatter\", \"data\": [0.8326156801930568, 0.853195031584862, 0.8682072845977328, 0.8682072845977328, 0.8682072845977328, 0.8699267142830149, 0.8699267142830149, 0.8699267142830149, 0.8699267142830149, 0.8699267142830149, 0.8699267142830149, 0.8699267142830149, 0.8699267142830149, 0.8710269450953414, 0.8710269450953414, 0.8710269450953414, 0.8710269450953414, 0.8765353157720464, 0.8765353157720464, 0.8765353157720464, 0.8765353157720464, 0.8765353157720464, 0.8765353157720464, 0.8769130535743197, 0.8769130535743197, 0.8769130535743197, 0.8769130535743197, 0.8769130535743197, 0.8769130535743197, 0.8769130535743197, 0.8769130535743197, 0.8769130535743197, 0.8769130535743197, 0.8769130535743197, 0.8769130535743197, 0.8769130535743197, 0.8769130535743197, 0.8895830424448218, 0.8895830424448218]}], \"f1_score_micro\": [{\"categories\": [\"0\", \"1\", \"2\", \"3\", \"4\", \"5\", \"6\", \"7\", \"8\", \"9\", \"10\", \"11\", \"12\", \"13\", \"14\", \"15\", \"16\", \"17\", \"18\", \"19\", \"20\", \"21\", \"22\", \"23\", \"24\", \"25\", \"26\", \"27\", \"28\", \"29\", \"30\", \"31\", \"32\", \"33\", \"34\", \"35\", \"36\", \"38\", \"39\"], \"mode\": \"markers\", \"name\": \"f1_score_micro\", \"stepped\": false, \"type\": \"scatter\", \"data\": [0.8310734463276835, 0.8521892655367231, 0.8649717514124293, 0.8184322033898305, 0.8480225988700565, 0.8648305084745762, 0.7423728813559323, 0.8564265536723163, 0.848093220338983, 0.8648305084745762, 0.8393361581920904, 0.85204802259887, 0.8267655367231639, 0.8606638418079096, 0.8439265536723164, 0.8564265536723163, 0.8100282485875706, 0.8649717514124294, 0.8563559322033898, 0.8606638418079096, 0.8564265536723163, 0.8142655367231639, 0.826906779661017, 0.8733050847457627, 0.8522598870056497, 0.480861581920904, 0.8268361581920903, 0.8311440677966101, 0.826906779661017, 0.8649011299435028, 0.7548728813559322, 0.8437146892655367, 0.8268361581920904, 0.8521186440677966, 0.8606638418079096, 0.8478813559322034, 0.8523305084745763, 0.8859463276836159, 0.8690677966101696]}, {\"categories\": [\"0\", \"1\", \"2\", \"3\", \"4\", \"5\", \"6\", \"7\", \"8\", \"9\", \"10\", \"11\", \"12\", \"13\", \"14\", \"15\", \"16\", \"17\", \"18\", \"19\", \"20\", \"21\", \"22\", \"23\", \"24\", \"25\", \"26\", \"27\", \"28\", \"29\", \"30\", \"31\", \"32\", \"33\", \"34\", \"35\", \"36\", \"38\", \"39\"], \"mode\": \"lines\", \"name\": \"f1_score_micro_max\", \"stepped\": true, \"type\": \"scatter\", \"data\": [0.8310734463276835, 0.8521892655367231, 0.8649717514124293, 0.8649717514124293, 0.8649717514124293, 0.8649717514124293, 0.8649717514124293, 0.8649717514124293, 0.8649717514124293, 0.8649717514124293, 0.8649717514124293, 0.8649717514124293, 0.8649717514124293, 0.8649717514124293, 0.8649717514124293, 0.8649717514124293, 0.8649717514124293, 0.8649717514124294, 0.8649717514124294, 0.8649717514124294, 0.8649717514124294, 0.8649717514124294, 0.8649717514124294, 0.8733050847457627, 0.8733050847457627, 0.8733050847457627, 0.8733050847457627, 0.8733050847457627, 0.8733050847457627, 0.8733050847457627, 0.8733050847457627, 0.8733050847457627, 0.8733050847457627, 0.8733050847457627, 0.8733050847457627, 0.8733050847457627, 0.8733050847457627, 0.8859463276836159, 0.8859463276836159]}], \"average_precision_score_macro\": [{\"categories\": [\"0\", \"1\", \"2\", \"3\", \"4\", \"5\", \"6\", \"7\", \"8\", \"9\", \"10\", \"11\", \"12\", \"13\", \"14\", \"15\", \"16\", \"17\", \"18\", \"19\", \"20\", \"21\", \"22\", \"23\", \"24\", \"25\", \"26\", \"27\", \"28\", \"29\", \"30\", \"31\", \"32\", \"33\", \"34\", \"35\", \"36\", \"38\", \"39\"], \"mode\": \"markers\", \"name\": \"average_precision_score_macro\", \"stepped\": false, \"type\": \"scatter\", \"data\": [0.8934651243858611, 0.9147940095857399, 0.896193617632371, 0.9028323697193799, 0.9181722520645499, 0.8989669454745227, 0.7310595251170411, 0.9095612855713251, 0.9094648020580596, 0.9141047093482794, 0.8928261846947976, 0.8919744623735569, 0.8604364334688952, 0.8901834876592029, 0.900405314472838, 0.8824764117427487, 0.8847019854797632, 0.895590190590685, 0.9004491659929991, 0.9091081748531917, 0.9056588497575002, 0.8812058721000208, 0.8978182983517063, 0.9023781828539665, 0.9022038301818781, 0.509778967968777, 0.8961686424368129, 0.8926294401816652, 0.9097723602199242, 0.9011446394355691, 0.8189607275854114, 0.8854593719993917, 0.9033485767716786, 0.8992223583733252, 0.9083850557057458, 0.8935825456085074, 0.9022220031590102, 0.9098176456694116, 0.9117113846785592]}, {\"categories\": [\"0\", \"1\", \"2\", \"3\", \"4\", \"5\", \"6\", \"7\", \"8\", \"9\", \"10\", \"11\", \"12\", \"13\", \"14\", \"15\", \"16\", \"17\", \"18\", \"19\", \"20\", \"21\", \"22\", \"23\", \"24\", \"25\", \"26\", \"27\", \"28\", \"29\", \"30\", \"31\", \"32\", \"33\", \"34\", \"35\", \"36\", \"38\", \"39\"], \"mode\": \"lines\", \"name\": \"average_precision_score_macro_max\", \"stepped\": true, \"type\": \"scatter\", \"data\": [0.8934651243858611, 0.9147940095857399, 0.9147940095857399, 0.9147940095857399, 0.9181722520645499, 0.9181722520645499, 0.9181722520645499, 0.9181722520645499, 0.9181722520645499, 0.9181722520645499, 0.9181722520645499, 0.9181722520645499, 0.9181722520645499, 0.9181722520645499, 0.9181722520645499, 0.9181722520645499, 0.9181722520645499, 0.9181722520645499, 0.9181722520645499, 0.9181722520645499, 0.9181722520645499, 0.9181722520645499, 0.9181722520645499, 0.9181722520645499, 0.9181722520645499, 0.9181722520645499, 0.9181722520645499, 0.9181722520645499, 0.9181722520645499, 0.9181722520645499, 0.9181722520645499, 0.9181722520645499, 0.9181722520645499, 0.9181722520645499, 0.9181722520645499, 0.9181722520645499, 0.9181722520645499, 0.9181722520645499, 0.9181722520645499]}], \"AUC_weighted\": [{\"categories\": [\"0\", \"1\", \"2\", \"3\", \"4\", \"5\", \"6\", \"7\", \"8\", \"9\", \"10\", \"11\", \"12\", \"13\", \"14\", \"15\", \"16\", \"17\", \"18\", \"19\", \"20\", \"21\", \"22\", \"23\", \"24\", \"25\", \"26\", \"27\", \"28\", \"29\", \"30\", \"31\", \"32\", \"33\", \"34\", \"35\", \"36\", \"38\", \"39\"], \"mode\": \"markers\", \"name\": \"AUC_weighted\", \"stepped\": false, \"type\": \"scatter\", \"data\": [0.9098873588097726, 0.9282706627789432, 0.899163894748627, 0.9140600898144001, 0.9222097129906794, 0.9144165313034416, 0.7550044721423464, 0.9210835179641895, 0.9187259779379222, 0.9228554197176588, 0.9059895915173252, 0.8995312209468289, 0.8780797241110876, 0.897651554434676, 0.9158170087247901, 0.88735372137567, 0.9028325552812282, 0.8991031674831016, 0.9164347282456402, 0.9225581096157323, 0.9097378270486822, 0.891744584407073, 0.9026866377755386, 0.913483464162627, 0.9171849425025468, 0.5206686632333184, 0.9033375791883053, 0.9040101294085527, 0.9206241515246448, 0.9096377286443642, 0.8384285495773132, 0.9053481783170702, 0.9185867927885282, 0.9104714380321233, 0.9159396049227038, 0.9057974968606208, 0.9149121988618361, 0.9189199937867134, 0.9184554683633063]}, {\"categories\": [\"0\", \"1\", \"2\", \"3\", \"4\", \"5\", \"6\", \"7\", \"8\", \"9\", \"10\", \"11\", \"12\", \"13\", \"14\", \"15\", \"16\", \"17\", \"18\", \"19\", \"20\", \"21\", \"22\", \"23\", \"24\", \"25\", \"26\", \"27\", \"28\", \"29\", \"30\", \"31\", \"32\", \"33\", \"34\", \"35\", \"36\", \"38\", \"39\"], \"mode\": \"lines\", \"name\": \"AUC_weighted_max\", \"stepped\": true, \"type\": \"scatter\", \"data\": [0.9098873588097726, 0.9282706627789432, 0.9282706627789432, 0.9282706627789432, 0.9282706627789432, 0.9282706627789432, 0.9282706627789432, 0.9282706627789432, 0.9282706627789432, 0.9282706627789432, 0.9282706627789432, 0.9282706627789432, 0.9282706627789432, 0.9282706627789432, 0.9282706627789432, 0.9282706627789432, 0.9282706627789432, 0.9282706627789432, 0.9282706627789432, 0.9282706627789432, 0.9282706627789432, 0.9282706627789432, 0.9282706627789432, 0.9282706627789432, 0.9282706627789432, 0.9282706627789432, 0.9282706627789432, 0.9282706627789432, 0.9282706627789432, 0.9282706627789432, 0.9282706627789432, 0.9282706627789432, 0.9282706627789432, 0.9282706627789432, 0.9282706627789432, 0.9282706627789432, 0.9282706627789432, 0.9282706627789432, 0.9282706627789432]}], \"weighted_accuracy\": [{\"categories\": [\"0\", \"1\", \"2\", \"3\", \"4\", \"5\", \"6\", \"7\", \"8\", \"9\", \"10\", \"11\", \"12\", \"13\", \"14\", \"15\", \"16\", \"17\", \"18\", \"19\", \"20\", \"21\", \"22\", \"23\", \"24\", \"25\", \"26\", \"27\", \"28\", \"29\", \"30\", \"31\", \"32\", \"33\", \"34\", \"35\", \"36\", \"38\", \"39\"], \"mode\": \"markers\", \"name\": \"weighted_accuracy\", \"stepped\": false, \"type\": \"scatter\", \"data\": [0.8536203508709559, 0.8686333353521055, 0.8851700403782973, 0.8436038910327849, 0.872501405209039, 0.891297235275659, 0.7970982225101719, 0.8845595247390841, 0.8816760066285894, 0.8939402876285989, 0.8588962056223939, 0.8781729970000147, 0.8517697641974832, 0.8993608560886017, 0.8822565075235926, 0.9013085616969055, 0.8324136575521676, 0.9042113443587565, 0.8873537806682015, 0.8842497559793117, 0.8916183646739585, 0.8694996569646383, 0.8725224172740415, 0.8972992107776079, 0.8727696278984126, 0.45014159761779166, 0.8354796893726376, 0.8399681866674427, 0.876045989609045, 0.8929427172248121, 0.8181588641524166, 0.8769255340383, 0.862684537293019, 0.8902024987776659, 0.8857627619509363, 0.8819096290590284, 0.8771230107321751, 0.9089381190676422, 0.8928184563288074]}, {\"categories\": [\"0\", \"1\", \"2\", \"3\", \"4\", \"5\", \"6\", \"7\", \"8\", \"9\", \"10\", \"11\", \"12\", \"13\", \"14\", \"15\", \"16\", \"17\", \"18\", \"19\", \"20\", \"21\", \"22\", \"23\", \"24\", \"25\", \"26\", \"27\", \"28\", \"29\", \"30\", \"31\", \"32\", \"33\", \"34\", \"35\", \"36\", \"38\", \"39\"], \"mode\": \"lines\", \"name\": \"weighted_accuracy_max\", \"stepped\": true, \"type\": \"scatter\", \"data\": [0.8536203508709559, 0.8686333353521055, 0.8851700403782973, 0.8851700403782973, 0.8851700403782973, 0.891297235275659, 0.891297235275659, 0.891297235275659, 0.891297235275659, 0.8939402876285989, 0.8939402876285989, 0.8939402876285989, 0.8939402876285989, 0.8993608560886017, 0.8993608560886017, 0.9013085616969055, 0.9013085616969055, 0.9042113443587565, 0.9042113443587565, 0.9042113443587565, 0.9042113443587565, 0.9042113443587565, 0.9042113443587565, 0.9042113443587565, 0.9042113443587565, 0.9042113443587565, 0.9042113443587565, 0.9042113443587565, 0.9042113443587565, 0.9042113443587565, 0.9042113443587565, 0.9042113443587565, 0.9042113443587565, 0.9042113443587565, 0.9042113443587565, 0.9042113443587565, 0.9042113443587565, 0.9089381190676422, 0.9089381190676422]}], \"recall_score_macro\": [{\"categories\": [\"0\", \"1\", \"2\", \"3\", \"4\", \"5\", \"6\", \"7\", \"8\", \"9\", \"10\", \"11\", \"12\", \"13\", \"14\", \"15\", \"16\", \"17\", \"18\", \"19\", \"20\", \"21\", \"22\", \"23\", \"24\", \"25\", \"26\", \"27\", \"28\", \"29\", \"30\", \"31\", \"32\", \"33\", \"34\", \"35\", \"36\", \"38\", \"39\"], \"mode\": \"markers\", \"name\": \"recall_score_macro\", \"stepped\": false, \"type\": \"scatter\", \"data\": [0.7949499000570915, 0.8266244078063497, 0.8327157202043772, 0.779343260842807, 0.8101828254675351, 0.8240542988217671, 0.6578008828235687, 0.8124284964632061, 0.7960519072956687, 0.8202531292311238, 0.8100578068080336, 0.8098845803445396, 0.7879581071277986, 0.8015068652234033, 0.7850312252025048, 0.7867747223662604, 0.7761189685616863, 0.8057479366519747, 0.8093638370351165, 0.8237693485935319, 0.8021830348140466, 0.7311807716129404, 0.7564432363235676, 0.8357667901139997, 0.8195456926996174, 0.5206686632333184, 0.8151090852457685, 0.8157126300927344, 0.750639664894996, 0.8218662431287204, 0.6586436007403567, 0.7924520311685692, 0.7715137340477631, 0.7930991271281651, 0.8227310332715279, 0.7949457180372561, 0.8135291697111116, 0.8498442136231383, 0.8321658132399966]}, {\"categories\": [\"0\", \"1\", \"2\", \"3\", \"4\", \"5\", \"6\", \"7\", \"8\", \"9\", \"10\", \"11\", \"12\", \"13\", \"14\", \"15\", \"16\", \"17\", \"18\", \"19\", \"20\", \"21\", \"22\", \"23\", \"24\", \"25\", \"26\", \"27\", \"28\", \"29\", \"30\", \"31\", \"32\", \"33\", \"34\", \"35\", \"36\", \"38\", \"39\"], \"mode\": \"lines\", \"name\": \"recall_score_macro_max\", \"stepped\": true, \"type\": \"scatter\", \"data\": [0.7949499000570915, 0.8266244078063497, 0.8327157202043772, 0.8327157202043772, 0.8327157202043772, 0.8327157202043772, 0.8327157202043772, 0.8327157202043772, 0.8327157202043772, 0.8327157202043772, 0.8327157202043772, 0.8327157202043772, 0.8327157202043772, 0.8327157202043772, 0.8327157202043772, 0.8327157202043772, 0.8327157202043772, 0.8327157202043772, 0.8327157202043772, 0.8327157202043772, 0.8327157202043772, 0.8327157202043772, 0.8327157202043772, 0.8357667901139997, 0.8357667901139997, 0.8357667901139997, 0.8357667901139997, 0.8357667901139997, 0.8357667901139997, 0.8357667901139997, 0.8357667901139997, 0.8357667901139997, 0.8357667901139997, 0.8357667901139997, 0.8357667901139997, 0.8357667901139997, 0.8357667901139997, 0.8498442136231383, 0.8498442136231383]}], \"balanced_accuracy\": [{\"categories\": [\"0\", \"1\", \"2\", \"3\", \"4\", \"5\", \"6\", \"7\", \"8\", \"9\", \"10\", \"11\", \"12\", \"13\", \"14\", \"15\", \"16\", \"17\", \"18\", \"19\", \"20\", \"21\", \"22\", \"23\", \"24\", \"25\", \"26\", \"27\", \"28\", \"29\", \"30\", \"31\", \"32\", \"33\", \"34\", \"35\", \"36\", \"38\", \"39\"], \"mode\": \"markers\", \"name\": \"balanced_accuracy\", \"stepped\": false, \"type\": \"scatter\", \"data\": [0.7949499000570915, 0.8266244078063497, 0.8327157202043772, 0.779343260842807, 0.8101828254675351, 0.8240542988217671, 0.6578008828235687, 0.8124284964632061, 0.7960519072956687, 0.8202531292311238, 0.8100578068080336, 0.8098845803445396, 0.7879581071277986, 0.8015068652234033, 0.7850312252025048, 0.7867747223662604, 0.7761189685616863, 0.8057479366519747, 0.8093638370351165, 0.8237693485935319, 0.8021830348140466, 0.7311807716129404, 0.7564432363235676, 0.8357667901139997, 0.8195456926996174, 0.5206686632333184, 0.8151090852457685, 0.8157126300927344, 0.750639664894996, 0.8218662431287204, 0.6586436007403567, 0.7924520311685692, 0.7715137340477631, 0.7930991271281651, 0.8227310332715279, 0.7949457180372561, 0.8135291697111116, 0.8498442136231383, 0.8321658132399966]}, {\"categories\": [\"0\", \"1\", \"2\", \"3\", \"4\", \"5\", \"6\", \"7\", \"8\", \"9\", \"10\", \"11\", \"12\", \"13\", \"14\", \"15\", \"16\", \"17\", \"18\", \"19\", \"20\", \"21\", \"22\", \"23\", \"24\", \"25\", \"26\", \"27\", \"28\", \"29\", \"30\", \"31\", \"32\", \"33\", \"34\", \"35\", \"36\", \"38\", \"39\"], \"mode\": \"lines\", \"name\": \"balanced_accuracy_max\", \"stepped\": true, \"type\": \"scatter\", \"data\": [0.7949499000570915, 0.8266244078063497, 0.8327157202043772, 0.8327157202043772, 0.8327157202043772, 0.8327157202043772, 0.8327157202043772, 0.8327157202043772, 0.8327157202043772, 0.8327157202043772, 0.8327157202043772, 0.8327157202043772, 0.8327157202043772, 0.8327157202043772, 0.8327157202043772, 0.8327157202043772, 0.8327157202043772, 0.8327157202043772, 0.8327157202043772, 0.8327157202043772, 0.8327157202043772, 0.8327157202043772, 0.8327157202043772, 0.8357667901139997, 0.8357667901139997, 0.8357667901139997, 0.8357667901139997, 0.8357667901139997, 0.8357667901139997, 0.8357667901139997, 0.8357667901139997, 0.8357667901139997, 0.8357667901139997, 0.8357667901139997, 0.8357667901139997, 0.8357667901139997, 0.8357667901139997, 0.8498442136231383, 0.8498442136231383]}], \"precision_score_macro\": [{\"categories\": [\"0\", \"1\", \"2\", \"3\", \"4\", \"5\", \"6\", \"7\", \"8\", \"9\", \"10\", \"11\", \"12\", \"13\", \"14\", \"15\", \"16\", \"17\", \"18\", \"19\", \"20\", \"21\", \"22\", \"23\", \"24\", \"25\", \"26\", \"27\", \"28\", \"29\", \"30\", \"31\", \"32\", \"33\", \"34\", \"35\", \"36\", \"38\", \"39\"], \"mode\": \"markers\", \"name\": \"precision_score_macro\", \"stepped\": false, \"type\": \"scatter\", \"data\": [0.8070469687317514, 0.8294982794982795, 0.8508136592072014, 0.8068077336320492, 0.8314200623538023, 0.8639767059789943, 0.7196406767835339, 0.8464845761208344, 0.8584127849218032, 0.8681798131811105, 0.8203333918612794, 0.8535927104418646, 0.8101359514531092, 0.8810208054513672, 0.8438302614186896, 0.8835716742837487, 0.7854910714285714, 0.8883911501510187, 0.8600300960655616, 0.8504656384994117, 0.8679071508986369, 0.856868858654573, 0.8641825436794448, 0.873710407239819, 0.8283774361523932, 0.4317538915963198, 0.802149558568567, 0.8026126707365651, 0.8682343692193859, 0.8585065821462723, 0.7706783468104222, 0.8381289006654589, 0.8322481160987976, 0.8684126442774698, 0.8470737094026396, 0.854366287362611, 0.8315442767730186, 0.8867690883078421, 0.8642964878258996]}, {\"categories\": [\"0\", \"1\", \"2\", \"3\", \"4\", \"5\", \"6\", \"7\", \"8\", \"9\", \"10\", \"11\", \"12\", \"13\", \"14\", \"15\", \"16\", \"17\", \"18\", \"19\", \"20\", \"21\", \"22\", \"23\", \"24\", \"25\", \"26\", \"27\", \"28\", \"29\", \"30\", \"31\", \"32\", \"33\", \"34\", \"35\", \"36\", \"38\", \"39\"], \"mode\": \"lines\", \"name\": \"precision_score_macro_max\", \"stepped\": true, \"type\": \"scatter\", \"data\": [0.8070469687317514, 0.8294982794982795, 0.8508136592072014, 0.8508136592072014, 0.8508136592072014, 0.8639767059789943, 0.8639767059789943, 0.8639767059789943, 0.8639767059789943, 0.8681798131811105, 0.8681798131811105, 0.8681798131811105, 0.8681798131811105, 0.8810208054513672, 0.8810208054513672, 0.8835716742837487, 0.8835716742837487, 0.8883911501510187, 0.8883911501510187, 0.8883911501510187, 0.8883911501510187, 0.8883911501510187, 0.8883911501510187, 0.8883911501510187, 0.8883911501510187, 0.8883911501510187, 0.8883911501510187, 0.8883911501510187, 0.8883911501510187, 0.8883911501510187, 0.8883911501510187, 0.8883911501510187, 0.8883911501510187, 0.8883911501510187, 0.8883911501510187, 0.8883911501510187, 0.8883911501510187, 0.8883911501510187, 0.8883911501510187]}], \"accuracy\": [{\"categories\": [\"0\", \"1\", \"2\", \"3\", \"4\", \"5\", \"6\", \"7\", \"8\", \"9\", \"10\", \"11\", \"12\", \"13\", \"14\", \"15\", \"16\", \"17\", \"18\", \"19\", \"20\", \"21\", \"22\", \"23\", \"24\", \"25\", \"26\", \"27\", \"28\", \"29\", \"30\", \"31\", \"32\", \"33\", \"34\", \"35\", \"36\", \"38\", \"39\"], \"mode\": \"markers\", \"name\": \"accuracy\", \"stepped\": false, \"type\": \"scatter\", \"data\": [0.8310734463276835, 0.8521892655367231, 0.8649717514124293, 0.8184322033898305, 0.8480225988700565, 0.8648305084745762, 0.7423728813559323, 0.8564265536723163, 0.848093220338983, 0.8648305084745762, 0.8393361581920904, 0.85204802259887, 0.8267655367231639, 0.8606638418079096, 0.8439265536723164, 0.8564265536723163, 0.8100282485875706, 0.8649717514124294, 0.8563559322033898, 0.8606638418079096, 0.8564265536723163, 0.8142655367231639, 0.826906779661017, 0.8733050847457627, 0.8522598870056497, 0.480861581920904, 0.8268361581920903, 0.8311440677966101, 0.826906779661017, 0.8649011299435028, 0.7548728813559322, 0.8437146892655367, 0.8268361581920904, 0.8521186440677966, 0.8606638418079096, 0.8478813559322034, 0.8523305084745763, 0.8859463276836159, 0.8690677966101696]}, {\"categories\": [\"0\", \"1\", \"2\", \"3\", \"4\", \"5\", \"6\", \"7\", \"8\", \"9\", \"10\", \"11\", \"12\", \"13\", \"14\", \"15\", \"16\", \"17\", \"18\", \"19\", \"20\", \"21\", \"22\", \"23\", \"24\", \"25\", \"26\", \"27\", \"28\", \"29\", \"30\", \"31\", \"32\", \"33\", \"34\", \"35\", \"36\", \"38\", \"39\"], \"mode\": \"lines\", \"name\": \"accuracy_max\", \"stepped\": true, \"type\": \"scatter\", \"data\": [0.8310734463276835, 0.8521892655367231, 0.8649717514124293, 0.8649717514124293, 0.8649717514124293, 0.8649717514124293, 0.8649717514124293, 0.8649717514124293, 0.8649717514124293, 0.8649717514124293, 0.8649717514124293, 0.8649717514124293, 0.8649717514124293, 0.8649717514124293, 0.8649717514124293, 0.8649717514124293, 0.8649717514124293, 0.8649717514124294, 0.8649717514124294, 0.8649717514124294, 0.8649717514124294, 0.8649717514124294, 0.8649717514124294, 0.8733050847457627, 0.8733050847457627, 0.8733050847457627, 0.8733050847457627, 0.8733050847457627, 0.8733050847457627, 0.8733050847457627, 0.8733050847457627, 0.8733050847457627, 0.8733050847457627, 0.8733050847457627, 0.8733050847457627, 0.8733050847457627, 0.8733050847457627, 0.8859463276836159, 0.8859463276836159]}], \"norm_macro_recall\": [{\"categories\": [\"0\", \"1\", \"2\", \"3\", \"4\", \"5\", \"6\", \"7\", \"8\", \"9\", \"10\", \"11\", \"12\", \"13\", \"14\", \"15\", \"16\", \"17\", \"18\", \"19\", \"20\", \"21\", \"22\", \"23\", \"24\", \"25\", \"26\", \"27\", \"28\", \"29\", \"30\", \"31\", \"32\", \"33\", \"34\", \"35\", \"36\", \"38\", \"39\"], \"mode\": \"markers\", \"name\": \"norm_macro_recall\", \"stepped\": false, \"type\": \"scatter\", \"data\": [0.5898998001141831, 0.6532488156126994, 0.6654314404087545, 0.5586865216856142, 0.6203656509350702, 0.6481085976435341, 0.31560176564713766, 0.6248569929264122, 0.5921038145913373, 0.6405062584622475, 0.6201156136160673, 0.6197691606890791, 0.5759162142555972, 0.6030137304468067, 0.5700624504050095, 0.573549444732521, 0.5522379371233727, 0.6114958733039495, 0.6187276740702331, 0.6475386971870638, 0.6043660696280932, 0.4623615432258808, 0.512886472647135, 0.6715335802279995, 0.6390913853992346, 0.05554187192118226, 0.630218170491537, 0.6314252601854689, 0.5012793297899922, 0.6437324862574408, 0.31728720148071327, 0.5849040623371387, 0.5430274680955262, 0.5861982542563304, 0.6454620665430557, 0.5898914360745123, 0.6270583394222232, 0.6996884272462767, 0.6643316264799931]}, {\"categories\": [\"0\", \"1\", \"2\", \"3\", \"4\", \"5\", \"6\", \"7\", \"8\", \"9\", \"10\", \"11\", \"12\", \"13\", \"14\", \"15\", \"16\", \"17\", \"18\", \"19\", \"20\", \"21\", \"22\", \"23\", \"24\", \"25\", \"26\", \"27\", \"28\", \"29\", \"30\", \"31\", \"32\", \"33\", \"34\", \"35\", \"36\", \"38\", \"39\"], \"mode\": \"lines\", \"name\": \"norm_macro_recall_max\", \"stepped\": true, \"type\": \"scatter\", \"data\": [0.5898998001141831, 0.6532488156126994, 0.6654314404087545, 0.6654314404087545, 0.6654314404087545, 0.6654314404087545, 0.6654314404087545, 0.6654314404087545, 0.6654314404087545, 0.6654314404087545, 0.6654314404087545, 0.6654314404087545, 0.6654314404087545, 0.6654314404087545, 0.6654314404087545, 0.6654314404087545, 0.6654314404087545, 0.6654314404087545, 0.6654314404087545, 0.6654314404087545, 0.6654314404087545, 0.6654314404087545, 0.6654314404087545, 0.6715335802279995, 0.6715335802279995, 0.6715335802279995, 0.6715335802279995, 0.6715335802279995, 0.6715335802279995, 0.6715335802279995, 0.6715335802279995, 0.6715335802279995, 0.6715335802279995, 0.6715335802279995, 0.6715335802279995, 0.6715335802279995, 0.6715335802279995, 0.6996884272462767, 0.6996884272462767]}], \"f1_score_weighted\": [{\"categories\": [\"0\", \"1\", \"2\", \"3\", \"4\", \"5\", \"6\", \"7\", \"8\", \"9\", \"10\", \"11\", \"12\", \"13\", \"14\", \"15\", \"16\", \"17\", \"18\", \"19\", \"20\", \"21\", \"22\", \"23\", \"24\", \"25\", \"26\", \"27\", \"28\", \"29\", \"30\", \"31\", \"32\", \"33\", \"34\", \"35\", \"36\", \"38\", \"39\"], \"mode\": \"markers\", \"name\": \"f1_score_weighted\", \"stepped\": false, \"type\": \"scatter\", \"data\": [0.8293576115256012, 0.8520238378094966, 0.8636405932748743, 0.8142850975168701, 0.8460635411246533, 0.8621357377996532, 0.7243055659310328, 0.853676424403875, 0.8417380124174502, 0.8615396505540942, 0.8397367463586842, 0.8494226966157177, 0.8256209227440602, 0.8539255795244247, 0.8375130228747728, 0.8476879069728613, 0.8094340327408514, 0.8571899087683188, 0.8523585845112083, 0.8587006824012646, 0.8507986655793108, 0.7948515311790978, 0.8143728578670449, 0.871666573238426, 0.8516935567318289, 0.45156260716062635, 0.8316497125473661, 0.8326658793127546, 0.8130307075543295, 0.8620539630935745, 0.7273245846400885, 0.8389799792526198, 0.8203074102127305, 0.8461574200629266, 0.8582356242864317, 0.8432055114743687, 0.8502905845478324, 0.8843095336829514, 0.8670874480217627]}, {\"categories\": [\"0\", \"1\", \"2\", \"3\", \"4\", \"5\", \"6\", \"7\", \"8\", \"9\", \"10\", \"11\", \"12\", \"13\", \"14\", \"15\", \"16\", \"17\", \"18\", \"19\", \"20\", \"21\", \"22\", \"23\", \"24\", \"25\", \"26\", \"27\", \"28\", \"29\", \"30\", \"31\", \"32\", \"33\", \"34\", \"35\", \"36\", \"38\", \"39\"], \"mode\": \"lines\", \"name\": \"f1_score_weighted_max\", \"stepped\": true, \"type\": \"scatter\", \"data\": [0.8293576115256012, 0.8520238378094966, 0.8636405932748743, 0.8636405932748743, 0.8636405932748743, 0.8636405932748743, 0.8636405932748743, 0.8636405932748743, 0.8636405932748743, 0.8636405932748743, 0.8636405932748743, 0.8636405932748743, 0.8636405932748743, 0.8636405932748743, 0.8636405932748743, 0.8636405932748743, 0.8636405932748743, 0.8636405932748743, 0.8636405932748743, 0.8636405932748743, 0.8636405932748743, 0.8636405932748743, 0.8636405932748743, 0.871666573238426, 0.871666573238426, 0.871666573238426, 0.871666573238426, 0.871666573238426, 0.871666573238426, 0.871666573238426, 0.871666573238426, 0.871666573238426, 0.871666573238426, 0.871666573238426, 0.871666573238426, 0.871666573238426, 0.871666573238426, 0.8843095336829514, 0.8843095336829514]}], \"average_precision_score_micro\": [{\"categories\": [\"0\", \"1\", \"2\", \"3\", \"4\", \"5\", \"6\", \"7\", \"8\", \"9\", \"10\", \"11\", \"12\", \"13\", \"14\", \"15\", \"16\", \"17\", \"18\", \"19\", \"20\", \"21\", \"22\", \"23\", \"24\", \"25\", \"26\", \"27\", \"28\", \"29\", \"30\", \"31\", \"32\", \"33\", \"34\", \"35\", \"36\", \"38\", \"39\"], \"mode\": \"markers\", \"name\": \"average_precision_score_micro\", \"stepped\": false, \"type\": \"scatter\", \"data\": [0.9220237527071791, 0.9382479906937897, 0.9209949849545833, 0.9180657907201037, 0.9372358265647998, 0.9272882247913448, 0.7861896959526643, 0.934284945587026, 0.921604846133785, 0.9267939982381659, 0.9184118357076296, 0.9161640225530111, 0.8934787551602172, 0.9089253990110422, 0.9205806138211114, 0.8973753683379951, 0.915934497709699, 0.9045831065698098, 0.9204739501503248, 0.9327225841174551, 0.9232783423816286, 0.893663115865279, 0.8924153919937212, 0.9264771726070533, 0.9311581875703432, 0.4786760247392195, 0.9092076684583646, 0.9180604781673898, 0.9051311212130491, 0.9247165150883512, 0.8478308166726756, 0.9036056260289071, 0.9251747372026597, 0.9100109531249776, 0.924776442994399, 0.9129668188692358, 0.9304549897877936, 0.9339535546685644, 0.9245592317014084]}, {\"categories\": [\"0\", \"1\", \"2\", \"3\", \"4\", \"5\", \"6\", \"7\", \"8\", \"9\", \"10\", \"11\", \"12\", \"13\", \"14\", \"15\", \"16\", \"17\", \"18\", \"19\", \"20\", \"21\", \"22\", \"23\", \"24\", \"25\", \"26\", \"27\", \"28\", \"29\", \"30\", \"31\", \"32\", \"33\", \"34\", \"35\", \"36\", \"38\", \"39\"], \"mode\": \"lines\", \"name\": \"average_precision_score_micro_max\", \"stepped\": true, \"type\": \"scatter\", \"data\": [0.9220237527071791, 0.9382479906937897, 0.9382479906937897, 0.9382479906937897, 0.9382479906937897, 0.9382479906937897, 0.9382479906937897, 0.9382479906937897, 0.9382479906937897, 0.9382479906937897, 0.9382479906937897, 0.9382479906937897, 0.9382479906937897, 0.9382479906937897, 0.9382479906937897, 0.9382479906937897, 0.9382479906937897, 0.9382479906937897, 0.9382479906937897, 0.9382479906937897, 0.9382479906937897, 0.9382479906937897, 0.9382479906937897, 0.9382479906937897, 0.9382479906937897, 0.9382479906937897, 0.9382479906937897, 0.9382479906937897, 0.9382479906937897, 0.9382479906937897, 0.9382479906937897, 0.9382479906937897, 0.9382479906937897, 0.9382479906937897, 0.9382479906937897, 0.9382479906937897, 0.9382479906937897, 0.9382479906937897, 0.9382479906937897]}], \"AUC_micro\": [{\"categories\": [\"0\", \"1\", \"2\", \"3\", \"4\", \"5\", \"6\", \"7\", \"8\", \"9\", \"10\", \"11\", \"12\", \"13\", \"14\", \"15\", \"16\", \"17\", \"18\", \"19\", \"20\", \"21\", \"22\", \"23\", \"24\", \"25\", \"26\", \"27\", \"28\", \"29\", \"30\", \"31\", \"32\", \"33\", \"34\", \"35\", \"36\", \"38\", \"39\"], \"mode\": \"markers\", \"name\": \"AUC_micro\", \"stepped\": false, \"type\": \"scatter\", \"data\": [0.9178503543043186, 0.9345864255162948, 0.9193247071403492, 0.9146778743336845, 0.9333773819783588, 0.9258263509847107, 0.7935984630853202, 0.930679143126177, 0.9154286962558652, 0.9255450221839191, 0.9168668605764627, 0.9170965598965815, 0.893347796769766, 0.908103813559322, 0.9185145153053081, 0.8965315482460341, 0.911572464808963, 0.9023648616297999, 0.9193971240703501, 0.9307604575632801, 0.9205752856778064, 0.8881281719812314, 0.8909255402342877, 0.9261183727536786, 0.9280147387404641, 0.4189338352644515, 0.9078818347218234, 0.9182017260365796, 0.8995212103801589, 0.9220561819719749, 0.8436055052826454, 0.9057931549044017, 0.9189846069137221, 0.9077037648823774, 0.9231002226371732, 0.9110406492387245, 0.927059134507964, 0.9313836820517731, 0.9249129001883238]}, {\"categories\": [\"0\", \"1\", \"2\", \"3\", \"4\", \"5\", \"6\", \"7\", \"8\", \"9\", \"10\", \"11\", \"12\", \"13\", \"14\", \"15\", \"16\", \"17\", \"18\", \"19\", \"20\", \"21\", \"22\", \"23\", \"24\", \"25\", \"26\", \"27\", \"28\", \"29\", \"30\", \"31\", \"32\", \"33\", \"34\", \"35\", \"36\", \"38\", \"39\"], \"mode\": \"lines\", \"name\": \"AUC_micro_max\", \"stepped\": true, \"type\": \"scatter\", \"data\": [0.9178503543043186, 0.9345864255162948, 0.9345864255162948, 0.9345864255162948, 0.9345864255162948, 0.9345864255162948, 0.9345864255162948, 0.9345864255162948, 0.9345864255162948, 0.9345864255162948, 0.9345864255162948, 0.9345864255162948, 0.9345864255162948, 0.9345864255162948, 0.9345864255162948, 0.9345864255162948, 0.9345864255162948, 0.9345864255162948, 0.9345864255162948, 0.9345864255162948, 0.9345864255162948, 0.9345864255162948, 0.9345864255162948, 0.9345864255162948, 0.9345864255162948, 0.9345864255162948, 0.9345864255162948, 0.9345864255162948, 0.9345864255162948, 0.9345864255162948, 0.9345864255162948, 0.9345864255162948, 0.9345864255162948, 0.9345864255162948, 0.9345864255162948, 0.9345864255162948, 0.9345864255162948, 0.9345864255162948, 0.9345864255162948]}], \"recall_score_weighted\": [{\"categories\": [\"0\", \"1\", \"2\", \"3\", \"4\", \"5\", \"6\", \"7\", \"8\", \"9\", \"10\", \"11\", \"12\", \"13\", \"14\", \"15\", \"16\", \"17\", \"18\", \"19\", \"20\", \"21\", \"22\", \"23\", \"24\", \"25\", \"26\", \"27\", \"28\", \"29\", \"30\", \"31\", \"32\", \"33\", \"34\", \"35\", \"36\", \"38\", \"39\"], \"mode\": \"markers\", \"name\": \"recall_score_weighted\", \"stepped\": false, \"type\": \"scatter\", \"data\": [0.8310734463276835, 0.8521892655367231, 0.8649717514124293, 0.8184322033898305, 0.8480225988700565, 0.8648305084745762, 0.7423728813559323, 0.8564265536723163, 0.848093220338983, 0.8648305084745762, 0.8393361581920904, 0.85204802259887, 0.8267655367231639, 0.8606638418079096, 0.8439265536723164, 0.8564265536723163, 0.8100282485875706, 0.8649717514124294, 0.8563559322033898, 0.8606638418079096, 0.8564265536723163, 0.8142655367231639, 0.826906779661017, 0.8733050847457627, 0.8522598870056497, 0.480861581920904, 0.8268361581920903, 0.8311440677966101, 0.826906779661017, 0.8649011299435028, 0.7548728813559322, 0.8437146892655367, 0.8268361581920904, 0.8521186440677966, 0.8606638418079096, 0.8478813559322034, 0.8523305084745763, 0.8859463276836159, 0.8690677966101696]}, {\"categories\": [\"0\", \"1\", \"2\", \"3\", \"4\", \"5\", \"6\", \"7\", \"8\", \"9\", \"10\", \"11\", \"12\", \"13\", \"14\", \"15\", \"16\", \"17\", \"18\", \"19\", \"20\", \"21\", \"22\", \"23\", \"24\", \"25\", \"26\", \"27\", \"28\", \"29\", \"30\", \"31\", \"32\", \"33\", \"34\", \"35\", \"36\", \"38\", \"39\"], \"mode\": \"lines\", \"name\": \"recall_score_weighted_max\", \"stepped\": true, \"type\": \"scatter\", \"data\": [0.8310734463276835, 0.8521892655367231, 0.8649717514124293, 0.8649717514124293, 0.8649717514124293, 0.8649717514124293, 0.8649717514124293, 0.8649717514124293, 0.8649717514124293, 0.8649717514124293, 0.8649717514124293, 0.8649717514124293, 0.8649717514124293, 0.8649717514124293, 0.8649717514124293, 0.8649717514124293, 0.8649717514124293, 0.8649717514124294, 0.8649717514124294, 0.8649717514124294, 0.8649717514124294, 0.8649717514124294, 0.8649717514124294, 0.8733050847457627, 0.8733050847457627, 0.8733050847457627, 0.8733050847457627, 0.8733050847457627, 0.8733050847457627, 0.8733050847457627, 0.8733050847457627, 0.8733050847457627, 0.8733050847457627, 0.8733050847457627, 0.8733050847457627, 0.8733050847457627, 0.8733050847457627, 0.8859463276836159, 0.8859463276836159]}], \"average_precision_score_weighted\": [{\"categories\": [\"0\", \"1\", \"2\", \"3\", \"4\", \"5\", \"6\", \"7\", \"8\", \"9\", \"10\", \"11\", \"12\", \"13\", \"14\", \"15\", \"16\", \"17\", \"18\", \"19\", \"20\", \"21\", \"22\", \"23\", \"24\", \"25\", \"26\", \"27\", \"28\", \"29\", \"30\", \"31\", \"32\", \"33\", \"34\", \"35\", \"36\", \"38\", \"39\"], \"mode\": \"markers\", \"name\": \"average_precision_score_weighted\", \"stepped\": false, \"type\": \"scatter\", \"data\": [0.9184624707391167, 0.9353194446317801, 0.9169796317851846, 0.9251955885616344, 0.9352076118394335, 0.9233077197935832, 0.78368717616271, 0.9304715816409217, 0.9295417626047482, 0.9336356362913292, 0.9189617508869028, 0.9160431687878254, 0.8925313252917418, 0.9125098241617571, 0.9243702957339166, 0.9049322880795291, 0.9159173795238982, 0.9168490940606066, 0.920726241604368, 0.9305167454165307, 0.9256020291056393, 0.9063852147315298, 0.9180865826594917, 0.9241494924971859, 0.9255928575293325, 0.5869577458291738, 0.9220781824143264, 0.9146047933136892, 0.9311055967239534, 0.922484860834599, 0.8605440513935874, 0.909658638378448, 0.9271493682867449, 0.9215697959945114, 0.9287104561357933, 0.9179990502680148, 0.925156843238135, 0.9307206785682228, 0.9312712552238762]}, {\"categories\": [\"0\", \"1\", \"2\", \"3\", \"4\", \"5\", \"6\", \"7\", \"8\", \"9\", \"10\", \"11\", \"12\", \"13\", \"14\", \"15\", \"16\", \"17\", \"18\", \"19\", \"20\", \"21\", \"22\", \"23\", \"24\", \"25\", \"26\", \"27\", \"28\", \"29\", \"30\", \"31\", \"32\", \"33\", \"34\", \"35\", \"36\", \"38\", \"39\"], \"mode\": \"lines\", \"name\": \"average_precision_score_weighted_max\", \"stepped\": true, \"type\": \"scatter\", \"data\": [0.9184624707391167, 0.9353194446317801, 0.9353194446317801, 0.9353194446317801, 0.9353194446317801, 0.9353194446317801, 0.9353194446317801, 0.9353194446317801, 0.9353194446317801, 0.9353194446317801, 0.9353194446317801, 0.9353194446317801, 0.9353194446317801, 0.9353194446317801, 0.9353194446317801, 0.9353194446317801, 0.9353194446317801, 0.9353194446317801, 0.9353194446317801, 0.9353194446317801, 0.9353194446317801, 0.9353194446317801, 0.9353194446317801, 0.9353194446317801, 0.9353194446317801, 0.9353194446317801, 0.9353194446317801, 0.9353194446317801, 0.9353194446317801, 0.9353194446317801, 0.9353194446317801, 0.9353194446317801, 0.9353194446317801, 0.9353194446317801, 0.9353194446317801, 0.9353194446317801, 0.9353194446317801, 0.9353194446317801, 0.9353194446317801]}], \"matthews_correlation\": [{\"categories\": [\"0\", \"1\", \"2\", \"3\", \"4\", \"5\", \"6\", \"7\", \"8\", \"9\", \"10\", \"11\", \"12\", \"13\", \"14\", \"15\", \"16\", \"17\", \"18\", \"19\", \"20\", \"21\", \"22\", \"23\", \"24\", \"25\", \"26\", \"27\", \"28\", \"29\", \"30\", \"31\", \"32\", \"33\", \"34\", \"35\", \"36\", \"38\", \"39\"], \"mode\": \"markers\", \"name\": \"matthews_correlation\", \"stepped\": false, \"type\": \"scatter\", \"data\": [0.6017332270859244, 0.6560681717263818, 0.6825579639436068, 0.5847736622331441, 0.6407312227551325, 0.6852192531195647, 0.3714557546446875, 0.6571014431790725, 0.6509633916063375, 0.6853637250722714, 0.6294464100510917, 0.660849594122276, 0.5962832298517131, 0.6764493749107717, 0.6250833196804118, 0.661374589604747, 0.560263102357542, 0.6868745120995027, 0.666259513126476, 0.6726207574565866, 0.6651312363710864, 0.571480528704573, 0.6085677654439784, 0.7076913262681751, 0.6476641982528202, 0.036743305685956, 0.61623699560113, 0.6178779113121444, 0.605136596996496, 0.6785132423101491, 0.41351025104223754, 0.6285207988946296, 0.5976925359422153, 0.6558574677814499, 0.6692168534947069, 0.6455459370624338, 0.6446148051084069, 0.7345337398650421, 0.6937176266752119]}, {\"categories\": [\"0\", \"1\", \"2\", \"3\", \"4\", \"5\", \"6\", \"7\", \"8\", \"9\", \"10\", \"11\", \"12\", \"13\", \"14\", \"15\", \"16\", \"17\", \"18\", \"19\", \"20\", \"21\", \"22\", \"23\", \"24\", \"25\", \"26\", \"27\", \"28\", \"29\", \"30\", \"31\", \"32\", \"33\", \"34\", \"35\", \"36\", \"38\", \"39\"], \"mode\": \"lines\", \"name\": \"matthews_correlation_max\", \"stepped\": true, \"type\": \"scatter\", \"data\": [0.6017332270859244, 0.6560681717263818, 0.6825579639436068, 0.6825579639436068, 0.6825579639436068, 0.6852192531195647, 0.6852192531195647, 0.6852192531195647, 0.6852192531195647, 0.6853637250722714, 0.6853637250722714, 0.6853637250722714, 0.6853637250722714, 0.6853637250722714, 0.6853637250722714, 0.6853637250722714, 0.6853637250722714, 0.6868745120995027, 0.6868745120995027, 0.6868745120995027, 0.6868745120995027, 0.6868745120995027, 0.6868745120995027, 0.7076913262681751, 0.7076913262681751, 0.7076913262681751, 0.7076913262681751, 0.7076913262681751, 0.7076913262681751, 0.7076913262681751, 0.7076913262681751, 0.7076913262681751, 0.7076913262681751, 0.7076913262681751, 0.7076913262681751, 0.7076913262681751, 0.7076913262681751, 0.7345337398650421, 0.7345337398650421]}]}, \"metricName\": null, \"primaryMetricName\": \"accuracy\", \"showLegend\": false}, \"run_metrics\": [{\"name\": \"experiment_status\", \"run_id\": \"AutoML_24db30fe-a126-43b9-b900-a49cf87f1bb6\", \"categories\": [0, 1, 2, 3, 4, 5], \"series\": [{\"data\": [\"DatasetEvaluation\", \"FeaturesGeneration\", \"DatasetFeaturization\", \"DatasetFeaturizationCompleted\", \"DatasetCrossValidationSplit\", \"ModelSelection\"]}]}, {\"name\": \"experiment_status_description\", \"run_id\": \"AutoML_24db30fe-a126-43b9-b900-a49cf87f1bb6\", \"categories\": [0, 1, 2, 3, 4, 5], \"series\": [{\"data\": [\"Gathering dataset statistics.\", \"Generating features for the dataset.\", \"Beginning to fit featurizers and featurize the dataset.\", \"Completed fit featurizers and featurizing the dataset.\", \"Generating individually featurized CV splits.\", \"Beginning model selection.\"]}]}, {\"name\": \"matthews_correlation\", \"run_id\": \"AutoML_24db30fe-a126-43b9-b900-a49cf87f1bb6\", \"categories\": [0], \"series\": [{\"data\": [0.7345337398650421]}]}, {\"name\": \"recall_score_macro\", \"run_id\": \"AutoML_24db30fe-a126-43b9-b900-a49cf87f1bb6\", \"categories\": [0], \"series\": [{\"data\": [0.8498442136231383]}]}, {\"name\": \"precision_score_macro\", \"run_id\": \"AutoML_24db30fe-a126-43b9-b900-a49cf87f1bb6\", \"categories\": [0], \"series\": [{\"data\": [0.8867690883078421]}]}, {\"name\": \"average_precision_score_micro\", \"run_id\": \"AutoML_24db30fe-a126-43b9-b900-a49cf87f1bb6\", \"categories\": [0], \"series\": [{\"data\": [0.9339535546685644]}]}, {\"name\": \"accuracy\", \"run_id\": \"AutoML_24db30fe-a126-43b9-b900-a49cf87f1bb6\", \"categories\": [0], \"series\": [{\"data\": [0.8859463276836159]}]}, {\"name\": \"recall_score_micro\", \"run_id\": \"AutoML_24db30fe-a126-43b9-b900-a49cf87f1bb6\", \"categories\": [0], \"series\": [{\"data\": [0.8859463276836159]}]}, {\"name\": \"norm_macro_recall\", \"run_id\": \"AutoML_24db30fe-a126-43b9-b900-a49cf87f1bb6\", \"categories\": [0], \"series\": [{\"data\": [0.6996884272462767]}]}, {\"name\": \"average_precision_score_weighted\", \"run_id\": \"AutoML_24db30fe-a126-43b9-b900-a49cf87f1bb6\", \"categories\": [0], \"series\": [{\"data\": [0.9307206785682228]}]}, {\"name\": \"recall_score_weighted\", \"run_id\": \"AutoML_24db30fe-a126-43b9-b900-a49cf87f1bb6\", \"categories\": [0], \"series\": [{\"data\": [0.8859463276836159]}]}, {\"name\": \"balanced_accuracy\", \"run_id\": \"AutoML_24db30fe-a126-43b9-b900-a49cf87f1bb6\", \"categories\": [0], \"series\": [{\"data\": [0.8498442136231383]}]}, {\"name\": \"weighted_accuracy\", \"run_id\": \"AutoML_24db30fe-a126-43b9-b900-a49cf87f1bb6\", \"categories\": [0], \"series\": [{\"data\": [0.9089381190676422]}]}, {\"name\": \"AUC_micro\", \"run_id\": \"AutoML_24db30fe-a126-43b9-b900-a49cf87f1bb6\", \"categories\": [0], \"series\": [{\"data\": [0.9313836820517731]}]}, {\"name\": \"AUC_macro\", \"run_id\": \"AutoML_24db30fe-a126-43b9-b900-a49cf87f1bb6\", \"categories\": [0], \"series\": [{\"data\": [0.9189199937867133]}]}, {\"name\": \"f1_score_micro\", \"run_id\": \"AutoML_24db30fe-a126-43b9-b900-a49cf87f1bb6\", \"categories\": [0], \"series\": [{\"data\": [0.8859463276836159]}]}, {\"name\": \"f1_score_macro\", \"run_id\": \"AutoML_24db30fe-a126-43b9-b900-a49cf87f1bb6\", \"categories\": [0], \"series\": [{\"data\": [0.8630064165593307]}]}, {\"name\": \"f1_score_weighted\", \"run_id\": \"AutoML_24db30fe-a126-43b9-b900-a49cf87f1bb6\", \"categories\": [0], \"series\": [{\"data\": [0.8843095336829514]}]}, {\"name\": \"AUC_weighted\", \"run_id\": \"AutoML_24db30fe-a126-43b9-b900-a49cf87f1bb6\", \"categories\": [0], \"series\": [{\"data\": [0.9189199937867134]}]}, {\"name\": \"log_loss\", \"run_id\": \"AutoML_24db30fe-a126-43b9-b900-a49cf87f1bb6\", \"categories\": [0], \"series\": [{\"data\": [0.3462589291243316]}]}, {\"name\": \"precision_score_micro\", \"run_id\": \"AutoML_24db30fe-a126-43b9-b900-a49cf87f1bb6\", \"categories\": [0], \"series\": [{\"data\": [0.8859463276836159]}]}, {\"name\": \"precision_score_weighted\", \"run_id\": \"AutoML_24db30fe-a126-43b9-b900-a49cf87f1bb6\", \"categories\": [0], \"series\": [{\"data\": [0.8895830424448218]}]}, {\"name\": \"average_precision_score_macro\", \"run_id\": \"AutoML_24db30fe-a126-43b9-b900-a49cf87f1bb6\", \"categories\": [0], \"series\": [{\"data\": [0.9098176456694116]}]}], \"run_logs\": \"\\nRun is completed.\", \"graph\": {}, \"widget_settings\": {\"childWidgetDisplay\": \"popup\", \"send_telemetry\": false, \"log_level\": \"INFO\", \"sdk_version\": \"1.20.0\"}, \"loading\": false}"
          },
          "metadata": {}
        }
      ],
      "execution_count": 10,
      "metadata": {
        "gather": {
          "logged": 1613158742411
        }
      }
    },
    {
      "cell_type": "code",
      "source": [
        "remote_run.wait_for_completion()"
      ],
      "outputs": [
        {
          "output_type": "execute_result",
          "execution_count": 11,
          "data": {
            "text/plain": "{'runId': 'AutoML_24db30fe-a126-43b9-b900-a49cf87f1bb6',\n 'target': 'auto-ml',\n 'status': 'Completed',\n 'startTimeUtc': '2021-02-12T19:07:32.520982Z',\n 'endTimeUtc': '2021-02-12T19:37:49.177488Z',\n 'properties': {'num_iterations': '1000',\n  'training_type': 'TrainFull',\n  'acquisition_function': 'EI',\n  'primary_metric': 'accuracy',\n  'train_split': '0',\n  'acquisition_parameter': '0',\n  'num_cross_validation': '4',\n  'target': 'auto-ml',\n  'AMLSettingsJsonString': '{\"path\":null,\"name\":\"automl-experiment\",\"subscription_id\":\"b968fb36-f06a-4c76-a15f-afab68ae7667\",\"resource_group\":\"aml-quickstarts-138728\",\"workspace_name\":\"quick-starts-ws-138728\",\"region\":\"southcentralus\",\"compute_target\":\"auto-ml\",\"spark_service\":null,\"azure_service\":\"remote\",\"many_models\":false,\"pipeline_fetch_max_batch_size\":1,\"iterations\":1000,\"primary_metric\":\"accuracy\",\"task_type\":\"classification\",\"data_script\":null,\"validation_size\":0.0,\"n_cross_validations\":4,\"y_min\":null,\"y_max\":null,\"num_classes\":null,\"featurization\":\"auto\",\"_ignore_package_version_incompatibilities\":false,\"is_timeseries\":false,\"max_cores_per_iteration\":1,\"max_concurrent_iterations\":3,\"iteration_timeout_minutes\":null,\"mem_in_mb\":null,\"enforce_time_on_windows\":false,\"experiment_timeout_minutes\":30,\"experiment_exit_score\":null,\"whitelist_models\":null,\"blacklist_algos\":[\"TensorFlowLinearClassifier\",\"TensorFlowDNN\"],\"supported_models\":[\"KNN\",\"LogisticRegression\",\"SVM\",\"ExtremeRandomTrees\",\"TensorFlowDNN\",\"XGBoostClassifier\",\"TensorFlowLinearClassifier\",\"LinearSVM\",\"SGD\",\"BernoulliNaiveBayes\",\"AveragedPerceptronClassifier\",\"RandomForest\",\"DecisionTree\",\"GradientBoosting\",\"LightGBM\",\"MultinomialNaiveBayes\"],\"auto_blacklist\":true,\"blacklist_samples_reached\":false,\"exclude_nan_labels\":true,\"verbosity\":20,\"_debug_log\":\"azureml_automl.log\",\"show_warnings\":false,\"model_explainability\":true,\"service_url\":null,\"sdk_url\":null,\"sdk_packages\":null,\"enable_onnx_compatible_models\":false,\"enable_split_onnx_featurizer_estimator_models\":false,\"vm_type\":\"STANDARD_D2_V2\",\"telemetry_verbosity\":20,\"send_telemetry\":true,\"enable_dnn\":false,\"scenario\":\"SDK-1.13.0\",\"environment_label\":null,\"force_text_dnn\":false,\"enable_feature_sweeping\":true,\"enable_early_stopping\":true,\"early_stopping_n_iters\":10,\"metrics\":null,\"enable_ensembling\":true,\"enable_stack_ensembling\":true,\"ensemble_iterations\":15,\"enable_tf\":false,\"enable_subsampling\":null,\"subsample_seed\":null,\"enable_nimbusml\":false,\"enable_streaming\":false,\"force_streaming\":false,\"track_child_runs\":true,\"allowed_private_models\":[],\"label_column_name\":\"DEATH_EVENT\",\"weight_column_name\":null,\"cv_split_column_names\":null,\"enable_local_managed\":false,\"_local_managed_run_id\":null,\"cost_mode\":1,\"lag_length\":0,\"metric_operation\":\"maximize\",\"preprocess\":true}',\n  'DataPrepJsonString': '{\\\\\"training_data\\\\\": \\\\\"{\\\\\\\\\\\\\"blocks\\\\\\\\\\\\\": [{\\\\\\\\\\\\\"id\\\\\\\\\\\\\": \\\\\\\\\\\\\"664ecba9-ae42-4460-94b3-7ea5bcccf9c7\\\\\\\\\\\\\", \\\\\\\\\\\\\"type\\\\\\\\\\\\\": \\\\\\\\\\\\\"Microsoft.DPrep.GetDatastoreFilesBlock\\\\\\\\\\\\\", \\\\\\\\\\\\\"arguments\\\\\\\\\\\\\": {\\\\\\\\\\\\\"datastores\\\\\\\\\\\\\": [{\\\\\\\\\\\\\"datastoreName\\\\\\\\\\\\\": \\\\\\\\\\\\\"workspaceblobstore\\\\\\\\\\\\\", \\\\\\\\\\\\\"path\\\\\\\\\\\\\": \\\\\\\\\\\\\"UI/02-12-2021_065950_UTC/heart-failure-clinical-records.csv\\\\\\\\\\\\\", \\\\\\\\\\\\\"resourceGroup\\\\\\\\\\\\\": \\\\\\\\\\\\\"aml-quickstarts-138728\\\\\\\\\\\\\", \\\\\\\\\\\\\"subscription\\\\\\\\\\\\\": \\\\\\\\\\\\\"b968fb36-f06a-4c76-a15f-afab68ae7667\\\\\\\\\\\\\", \\\\\\\\\\\\\"workspaceName\\\\\\\\\\\\\": \\\\\\\\\\\\\"quick-starts-ws-138728\\\\\\\\\\\\\"}]}, \\\\\\\\\\\\\"localData\\\\\\\\\\\\\": {}, \\\\\\\\\\\\\"isEnabled\\\\\\\\\\\\\": true, \\\\\\\\\\\\\"name\\\\\\\\\\\\\": null, \\\\\\\\\\\\\"annotation\\\\\\\\\\\\\": null}, {\\\\\\\\\\\\\"id\\\\\\\\\\\\\": \\\\\\\\\\\\\"568a3b92-866a-43d6-955a-af5347798461\\\\\\\\\\\\\", \\\\\\\\\\\\\"type\\\\\\\\\\\\\": \\\\\\\\\\\\\"Microsoft.DPrep.ParseDelimitedBlock\\\\\\\\\\\\\", \\\\\\\\\\\\\"arguments\\\\\\\\\\\\\": {\\\\\\\\\\\\\"columnHeadersMode\\\\\\\\\\\\\": 1, \\\\\\\\\\\\\"fileEncoding\\\\\\\\\\\\\": 0, \\\\\\\\\\\\\"handleQuotedLineBreaks\\\\\\\\\\\\\": false, \\\\\\\\\\\\\"preview\\\\\\\\\\\\\": false, \\\\\\\\\\\\\"separator\\\\\\\\\\\\\": \\\\\\\\\\\\\",\\\\\\\\\\\\\", \\\\\\\\\\\\\"skipRows\\\\\\\\\\\\\": 0, \\\\\\\\\\\\\"skipRowsMode\\\\\\\\\\\\\": 0}, \\\\\\\\\\\\\"localData\\\\\\\\\\\\\": {}, \\\\\\\\\\\\\"isEnabled\\\\\\\\\\\\\": true, \\\\\\\\\\\\\"name\\\\\\\\\\\\\": null, \\\\\\\\\\\\\"annotation\\\\\\\\\\\\\": null}, {\\\\\\\\\\\\\"id\\\\\\\\\\\\\": \\\\\\\\\\\\\"1a421500-eb7a-4105-90f3-975854876d9b\\\\\\\\\\\\\", \\\\\\\\\\\\\"type\\\\\\\\\\\\\": \\\\\\\\\\\\\"Microsoft.DPrep.DropColumnsBlock\\\\\\\\\\\\\", \\\\\\\\\\\\\"arguments\\\\\\\\\\\\\": {\\\\\\\\\\\\\"columns\\\\\\\\\\\\\": {\\\\\\\\\\\\\"type\\\\\\\\\\\\\": 0, \\\\\\\\\\\\\"details\\\\\\\\\\\\\": {\\\\\\\\\\\\\"selectedColumns\\\\\\\\\\\\\": [\\\\\\\\\\\\\"Path\\\\\\\\\\\\\"]}}}, \\\\\\\\\\\\\"localData\\\\\\\\\\\\\": {}, \\\\\\\\\\\\\"isEnabled\\\\\\\\\\\\\": true, \\\\\\\\\\\\\"name\\\\\\\\\\\\\": null, \\\\\\\\\\\\\"annotation\\\\\\\\\\\\\": null}, {\\\\\\\\\\\\\"id\\\\\\\\\\\\\": \\\\\\\\\\\\\"9cfbabfc-a0b7-4b10-8fa3-7a5a99d9d315\\\\\\\\\\\\\", \\\\\\\\\\\\\"type\\\\\\\\\\\\\": \\\\\\\\\\\\\"Microsoft.DPrep.SetColumnTypesBlock\\\\\\\\\\\\\", \\\\\\\\\\\\\"arguments\\\\\\\\\\\\\": {\\\\\\\\\\\\\"columnConversion\\\\\\\\\\\\\": [{\\\\\\\\\\\\\"column\\\\\\\\\\\\\": {\\\\\\\\\\\\\"type\\\\\\\\\\\\\": 2, \\\\\\\\\\\\\"details\\\\\\\\\\\\\": {\\\\\\\\\\\\\"selectedColumn\\\\\\\\\\\\\": \\\\\\\\\\\\\"Path\\\\\\\\\\\\\"}}, \\\\\\\\\\\\\"typeProperty\\\\\\\\\\\\\": 0}, {\\\\\\\\\\\\\"column\\\\\\\\\\\\\": {\\\\\\\\\\\\\"type\\\\\\\\\\\\\": 2, \\\\\\\\\\\\\"details\\\\\\\\\\\\\": {\\\\\\\\\\\\\"selectedColumn\\\\\\\\\\\\\": \\\\\\\\\\\\\"age\\\\\\\\\\\\\"}}, \\\\\\\\\\\\\"typeProperty\\\\\\\\\\\\\": 3}, {\\\\\\\\\\\\\"column\\\\\\\\\\\\\": {\\\\\\\\\\\\\"type\\\\\\\\\\\\\": 2, \\\\\\\\\\\\\"details\\\\\\\\\\\\\": {\\\\\\\\\\\\\"selectedColumn\\\\\\\\\\\\\": \\\\\\\\\\\\\"anaemia\\\\\\\\\\\\\"}}, \\\\\\\\\\\\\"typeProperty\\\\\\\\\\\\\": 2}, {\\\\\\\\\\\\\"column\\\\\\\\\\\\\": {\\\\\\\\\\\\\"type\\\\\\\\\\\\\": 2, \\\\\\\\\\\\\"details\\\\\\\\\\\\\": {\\\\\\\\\\\\\"selectedColumn\\\\\\\\\\\\\": \\\\\\\\\\\\\"creatinine_phosphokinase\\\\\\\\\\\\\"}}, \\\\\\\\\\\\\"typeProperty\\\\\\\\\\\\\": 2}, {\\\\\\\\\\\\\"column\\\\\\\\\\\\\": {\\\\\\\\\\\\\"type\\\\\\\\\\\\\": 2, \\\\\\\\\\\\\"details\\\\\\\\\\\\\": {\\\\\\\\\\\\\"selectedColumn\\\\\\\\\\\\\": \\\\\\\\\\\\\"diabetes\\\\\\\\\\\\\"}}, \\\\\\\\\\\\\"typeProperty\\\\\\\\\\\\\": 2}, {\\\\\\\\\\\\\"column\\\\\\\\\\\\\": {\\\\\\\\\\\\\"type\\\\\\\\\\\\\": 2, \\\\\\\\\\\\\"details\\\\\\\\\\\\\": {\\\\\\\\\\\\\"selectedColumn\\\\\\\\\\\\\": \\\\\\\\\\\\\"ejection_fraction\\\\\\\\\\\\\"}}, \\\\\\\\\\\\\"typeProperty\\\\\\\\\\\\\": 2}, {\\\\\\\\\\\\\"column\\\\\\\\\\\\\": {\\\\\\\\\\\\\"type\\\\\\\\\\\\\": 2, \\\\\\\\\\\\\"details\\\\\\\\\\\\\": {\\\\\\\\\\\\\"selectedColumn\\\\\\\\\\\\\": \\\\\\\\\\\\\"high_blood_pressure\\\\\\\\\\\\\"}}, \\\\\\\\\\\\\"typeProperty\\\\\\\\\\\\\": 2}, {\\\\\\\\\\\\\"column\\\\\\\\\\\\\": {\\\\\\\\\\\\\"type\\\\\\\\\\\\\": 2, \\\\\\\\\\\\\"details\\\\\\\\\\\\\": {\\\\\\\\\\\\\"selectedColumn\\\\\\\\\\\\\": \\\\\\\\\\\\\"platelets\\\\\\\\\\\\\"}}, \\\\\\\\\\\\\"typeProperty\\\\\\\\\\\\\": 3}, {\\\\\\\\\\\\\"column\\\\\\\\\\\\\": {\\\\\\\\\\\\\"type\\\\\\\\\\\\\": 2, \\\\\\\\\\\\\"details\\\\\\\\\\\\\": {\\\\\\\\\\\\\"selectedColumn\\\\\\\\\\\\\": \\\\\\\\\\\\\"serum_creatinine\\\\\\\\\\\\\"}}, \\\\\\\\\\\\\"typeProperty\\\\\\\\\\\\\": 3}, {\\\\\\\\\\\\\"column\\\\\\\\\\\\\": {\\\\\\\\\\\\\"type\\\\\\\\\\\\\": 2, \\\\\\\\\\\\\"details\\\\\\\\\\\\\": {\\\\\\\\\\\\\"selectedColumn\\\\\\\\\\\\\": \\\\\\\\\\\\\"serum_sodium\\\\\\\\\\\\\"}}, \\\\\\\\\\\\\"typeProperty\\\\\\\\\\\\\": 2}, {\\\\\\\\\\\\\"column\\\\\\\\\\\\\": {\\\\\\\\\\\\\"type\\\\\\\\\\\\\": 2, \\\\\\\\\\\\\"details\\\\\\\\\\\\\": {\\\\\\\\\\\\\"selectedColumn\\\\\\\\\\\\\": \\\\\\\\\\\\\"sex\\\\\\\\\\\\\"}}, \\\\\\\\\\\\\"typeProperty\\\\\\\\\\\\\": 2}, {\\\\\\\\\\\\\"column\\\\\\\\\\\\\": {\\\\\\\\\\\\\"type\\\\\\\\\\\\\": 2, \\\\\\\\\\\\\"details\\\\\\\\\\\\\": {\\\\\\\\\\\\\"selectedColumn\\\\\\\\\\\\\": \\\\\\\\\\\\\"smoking\\\\\\\\\\\\\"}}, \\\\\\\\\\\\\"typeProperty\\\\\\\\\\\\\": 2}, {\\\\\\\\\\\\\"column\\\\\\\\\\\\\": {\\\\\\\\\\\\\"type\\\\\\\\\\\\\": 2, \\\\\\\\\\\\\"details\\\\\\\\\\\\\": {\\\\\\\\\\\\\"selectedColumn\\\\\\\\\\\\\": \\\\\\\\\\\\\"time\\\\\\\\\\\\\"}}, \\\\\\\\\\\\\"typeProperty\\\\\\\\\\\\\": 2}, {\\\\\\\\\\\\\"column\\\\\\\\\\\\\": {\\\\\\\\\\\\\"type\\\\\\\\\\\\\": 2, \\\\\\\\\\\\\"details\\\\\\\\\\\\\": {\\\\\\\\\\\\\"selectedColumn\\\\\\\\\\\\\": \\\\\\\\\\\\\"DEATH_EVENT\\\\\\\\\\\\\"}}, \\\\\\\\\\\\\"typeProperty\\\\\\\\\\\\\": 2}]}, \\\\\\\\\\\\\"localData\\\\\\\\\\\\\": {}, \\\\\\\\\\\\\"isEnabled\\\\\\\\\\\\\": true, \\\\\\\\\\\\\"name\\\\\\\\\\\\\": null, \\\\\\\\\\\\\"annotation\\\\\\\\\\\\\": null}, {\\\\\\\\\\\\\"id\\\\\\\\\\\\\": \\\\\\\\\\\\\"b59987f4-1bd1-45d3-a745-c823f3d4bfc2\\\\\\\\\\\\\", \\\\\\\\\\\\\"type\\\\\\\\\\\\\": \\\\\\\\\\\\\"Microsoft.DPrep.TakeSampleBlock\\\\\\\\\\\\\", \\\\\\\\\\\\\"arguments\\\\\\\\\\\\\": {\\\\\\\\\\\\\"probability\\\\\\\\\\\\\": 0.8, \\\\\\\\\\\\\"probabilityLowerBound\\\\\\\\\\\\\": 0.0, \\\\\\\\\\\\\"seed\\\\\\\\\\\\\": 3932284004}, \\\\\\\\\\\\\"localData\\\\\\\\\\\\\": {}, \\\\\\\\\\\\\"isEnabled\\\\\\\\\\\\\": true, \\\\\\\\\\\\\"name\\\\\\\\\\\\\": null, \\\\\\\\\\\\\"annotation\\\\\\\\\\\\\": null}], \\\\\\\\\\\\\"inspectors\\\\\\\\\\\\\": [], \\\\\\\\\\\\\"meta\\\\\\\\\\\\\": {\\\\\\\\\\\\\"savedDatasetId\\\\\\\\\\\\\": \\\\\\\\\\\\\"f962b0ee-db86-46f4-8d3c-35a93b0f9bfa\\\\\\\\\\\\\", \\\\\\\\\\\\\"datasetType\\\\\\\\\\\\\": \\\\\\\\\\\\\"tabular\\\\\\\\\\\\\", \\\\\\\\\\\\\"subscriptionId\\\\\\\\\\\\\": \\\\\\\\\\\\\"b968fb36-f06a-4c76-a15f-afab68ae7667\\\\\\\\\\\\\", \\\\\\\\\\\\\"workspaceId\\\\\\\\\\\\\": \\\\\\\\\\\\\"9beb0ca5-2a98-4015-b661-97c7fbe5dde3\\\\\\\\\\\\\", \\\\\\\\\\\\\"workspaceLocation\\\\\\\\\\\\\": \\\\\\\\\\\\\"southcentralus\\\\\\\\\\\\\"}}\\\\\", \\\\\"activities\\\\\": 0}',\n  'EnableSubsampling': None,\n  'runTemplate': 'AutoML',\n  'azureml.runsource': 'automl',\n  'display_task_type': 'classification',\n  'dependencies_versions': '{\"azureml-widgets\": \"1.20.0\", \"azureml-train\": \"1.20.0\", \"azureml-train-restclients-hyperdrive\": \"1.20.0\", \"azureml-train-core\": \"1.20.0\", \"azureml-train-automl\": \"1.20.0\", \"azureml-train-automl-runtime\": \"1.20.0\", \"azureml-train-automl-client\": \"1.20.0\", \"azureml-tensorboard\": \"1.20.0\", \"azureml-telemetry\": \"1.20.0\", \"azureml-sdk\": \"1.20.0\", \"azureml-samples\": \"0+unknown\", \"azureml-pipeline\": \"1.20.0\", \"azureml-pipeline-steps\": \"1.20.0\", \"azureml-pipeline-core\": \"1.20.0\", \"azureml-opendatasets\": \"1.20.0\", \"azureml-model-management-sdk\": \"1.0.1b6.post1\", \"azureml-mlflow\": \"1.20.0.post1\", \"azureml-interpret\": \"1.20.0\", \"azureml-explain-model\": \"1.20.0\", \"azureml-defaults\": \"1.20.0\", \"azureml-dataset-runtime\": \"1.20.0\", \"azureml-dataprep\": \"2.7.3\", \"azureml-dataprep-rslex\": \"1.5.0\", \"azureml-dataprep-native\": \"27.0.0\", \"azureml-datadrift\": \"1.20.0\", \"azureml-core\": \"1.20.0\", \"azureml-contrib-services\": \"1.20.0\", \"azureml-contrib-server\": \"1.20.0\", \"azureml-contrib-reinforcementlearning\": \"1.20.0\", \"azureml-contrib-pipeline-steps\": \"1.20.0\", \"azureml-contrib-notebook\": \"1.20.0\", \"azureml-contrib-interpret\": \"1.20.0\", \"azureml-contrib-gbdt\": \"1.20.0\", \"azureml-contrib-fairness\": \"1.20.0\", \"azureml-contrib-dataset\": \"1.20.0\", \"azureml-cli-common\": \"1.20.0\", \"azureml-automl-runtime\": \"1.20.0\", \"azureml-automl-core\": \"1.20.0\", \"azureml-accel-models\": \"1.20.0\"}',\n  '_aml_system_scenario_identification': 'Remote.Parent',\n  'ClientType': 'SDK',\n  'environment_cpu_name': 'AzureML-AutoML',\n  'environment_cpu_label': 'prod',\n  'environment_gpu_name': 'AzureML-AutoML-GPU',\n  'environment_gpu_label': 'prod',\n  'root_attribution': 'automl',\n  'attribution': 'AutoML',\n  'Orchestrator': 'AutoML',\n  'CancelUri': 'https://southcentralus.experiments.azureml.net/jasmine/v1.0/subscriptions/b968fb36-f06a-4c76-a15f-afab68ae7667/resourceGroups/aml-quickstarts-138728/providers/Microsoft.MachineLearningServices/workspaces/quick-starts-ws-138728/experimentids/31a445a6-0c45-4f4a-920f-bab281ba0ff3/cancel/AutoML_24db30fe-a126-43b9-b900-a49cf87f1bb6',\n  'ClientSdkVersion': '1.21.0',\n  'snapshotId': '00000000-0000-0000-0000-000000000000',\n  'SetupRunId': 'AutoML_24db30fe-a126-43b9-b900-a49cf87f1bb6_setup',\n  'SetupRunContainerId': 'dcid.AutoML_24db30fe-a126-43b9-b900-a49cf87f1bb6_setup',\n  'FeaturizationRunJsonPath': 'featurizer_container.json',\n  'FeaturizationRunId': 'AutoML_24db30fe-a126-43b9-b900-a49cf87f1bb6_featurize',\n  'ProblemInfoJsonString': '{\"dataset_num_categorical\": 0, \"is_sparse\": false, \"subsampling\": false, \"dataset_classes\": 2, \"dataset_features\": 12, \"dataset_samples\": 237, \"single_frequency_class_detected\": false}',\n  'ModelExplainRunId': 'AutoML_24db30fe-a126-43b9-b900-a49cf87f1bb6_ModelExplain'},\n 'inputDatasets': [{'dataset': {'id': 'f962b0ee-db86-46f4-8d3c-35a93b0f9bfa'}, 'consumptionDetails': {'type': 'RunInput', 'inputName': 'training_data', 'mechanism': 'Direct'}}],\n 'outputDatasets': [],\n 'logFiles': {},\n 'submittedBy': 'ODL_User 138728'}"
          },
          "metadata": {}
        }
      ],
      "execution_count": 11,
      "metadata": {
        "gather": {
          "logged": 1613158820258
        }
      }
    },
    {
      "cell_type": "markdown",
      "source": [
        "## Best Model\n",
        "TODO: In the cell below, get the best model from the automl experiments and display all the properties of the model"
      ],
      "metadata": {}
    },
    {
      "cell_type": "code",
      "source": [
        "best_run, fitted_model = remote_run.get_output()\n",
        "best_run_metrics = best_run.get_metrics()"
      ],
      "outputs": [
        {
          "output_type": "stream",
          "name": "stderr",
          "text": [
            "WARNING:root:The version of the SDK does not match the version the model was trained on.\n",
            "WARNING:root:The consistency in the result may not be guaranteed.\n",
            "WARNING:root:Package:azureml-automl-core, training version:1.21.0, current version:1.20.0\n",
            "Package:azureml-automl-runtime, training version:1.21.0, current version:1.20.0\n",
            "Package:azureml-core, training version:1.21.0.post1, current version:1.20.0\n",
            "Package:azureml-dataprep, training version:2.8.2, current version:2.7.3\n",
            "Package:azureml-dataprep-native, training version:28.0.0, current version:27.0.0\n",
            "Package:azureml-dataprep-rslex, training version:1.6.0, current version:1.5.0\n",
            "Package:azureml-dataset-runtime, training version:1.21.0, current version:1.20.0\n",
            "Package:azureml-defaults, training version:1.21.0, current version:1.20.0\n",
            "Package:azureml-interpret, training version:1.21.0, current version:1.20.0\n",
            "Package:azureml-pipeline-core, training version:1.21.0, current version:1.20.0\n",
            "Package:azureml-telemetry, training version:1.21.0, current version:1.20.0\n",
            "Package:azureml-train-automl-client, training version:1.21.0, current version:1.20.0\n",
            "Package:azureml-train-automl-runtime, training version:1.21.0, current version:1.20.0\n",
            "WARNING:root:Please ensure the version of your local conda dependencies match the version on which your model was trained in order to properly retrieve your model.\n"
          ]
        }
      ],
      "execution_count": 12,
      "metadata": {
        "gather": {
          "logged": 1613158927682
        },
        "jupyter": {
          "outputs_hidden": false,
          "source_hidden": false
        },
        "nteract": {
          "transient": {
            "deleting": false
          }
        }
      }
    },
    {
      "cell_type": "code",
      "source": [
        "best_run"
      ],
      "outputs": [
        {
          "output_type": "execute_result",
          "execution_count": 13,
          "data": {
            "text/plain": "Run(Experiment: automl-experiment,\nId: AutoML_24db30fe-a126-43b9-b900-a49cf87f1bb6_38,\nType: azureml.scriptrun,\nStatus: Completed)",
            "text/html": "<table style=\"width:100%\"><tr><th>Experiment</th><th>Id</th><th>Type</th><th>Status</th><th>Details Page</th><th>Docs Page</th></tr><tr><td>automl-experiment</td><td>AutoML_24db30fe-a126-43b9-b900-a49cf87f1bb6_38</td><td>azureml.scriptrun</td><td>Completed</td><td><a href=\"https://ml.azure.com/experiments/automl-experiment/runs/AutoML_24db30fe-a126-43b9-b900-a49cf87f1bb6_38?wsid=/subscriptions/b968fb36-f06a-4c76-a15f-afab68ae7667/resourcegroups/aml-quickstarts-138728/workspaces/quick-starts-ws-138728\" target=\"_blank\" rel=\"noopener\">Link to Azure Machine Learning studio</a></td><td><a href=\"https://docs.microsoft.com/en-us/python/api/azureml-core/azureml.core.run.Run?view=azure-ml-py\" target=\"_blank\" rel=\"noopener\">Link to Documentation</a></td></tr></table>"
          },
          "metadata": {}
        }
      ],
      "execution_count": 13,
      "metadata": {
        "gather": {
          "logged": 1613159286917
        }
      }
    },
    {
      "cell_type": "code",
      "source": [
        "fitted_model"
      ],
      "outputs": [
        {
          "output_type": "execute_result",
          "execution_count": 14,
          "data": {
            "text/plain": "Pipeline(memory=None,\n         steps=[('datatransformer',\n                 DataTransformer(enable_dnn=None, enable_feature_sweeping=None,\n                                 feature_sweeping_config=None,\n                                 feature_sweeping_timeout=None,\n                                 featurization_config=None, force_text_dnn=None,\n                                 is_cross_validation=None,\n                                 is_onnx_compatible=None, logger=None,\n                                 observer=None, task=None, working_dir=None)),\n                ('prefittedsoftvotingclassifier',...\n                                                                                                    max_leaf_nodes=None,\n                                                                                                    max_samples=None,\n                                                                                                    min_impurity_decrease=0.0,\n                                                                                                    min_impurity_split=None,\n                                                                                                    min_samples_leaf=0.01,\n                                                                                                    min_samples_split=0.10368421052631578,\n                                                                                                    min_weight_fraction_leaf=0.0,\n                                                                                                    n_estimators=25,\n                                                                                                    n_jobs=1,\n                                                                                                    oob_score=False,\n                                                                                                    random_state=None,\n                                                                                                    verbose=0,\n                                                                                                    warm_start=False))],\n                                                                     verbose=False))],\n                                               flatten_transform=None,\n                                               weights=[0.2, 0.1, 0.1, 0.1, 0.1,\n                                                        0.1, 0.2, 0.1]))],\n         verbose=False)"
          },
          "metadata": {}
        }
      ],
      "execution_count": 14,
      "metadata": {
        "gather": {
          "logged": 1613159302453
        }
      }
    },
    {
      "cell_type": "code",
      "source": [
        "print('Best Run Id: ', best_run.id)\n",
        "print('\\n Accuracy:', best_run_metrics['accuracy'])\n",
        "print(fitted_model._final_estimator)\n",
        "print(best_run.get_tags())"
      ],
      "outputs": [
        {
          "output_type": "stream",
          "name": "stdout",
          "text": [
            "Best Run Id:  AutoML_24db30fe-a126-43b9-b900-a49cf87f1bb6_38\n",
            "\n",
            " Accuracy: 0.8859463276836159\n",
            "PreFittedSoftVotingClassifier(classification_labels=None,\n",
            "                              estimators=[('23',\n",
            "                                           Pipeline(memory=None,\n",
            "                                                    steps=[('standardscalerwrapper',\n",
            "                                                            <azureml.automl.runtime.shared.model_wrappers.StandardScalerWrapper object at 0x7fd2f278bda0>),\n",
            "                                                           ('lightgbmclassifier',\n",
            "                                                            LightGBMClassifier(boosting_type='goss',\n",
            "                                                                               class_weight=None,\n",
            "                                                                               colsample_bytree=0.4955555555555555,\n",
            "                                                                               importance_typ...\n",
            "                                                                                   max_features=0.3,\n",
            "                                                                                   max_leaf_nodes=None,\n",
            "                                                                                   max_samples=None,\n",
            "                                                                                   min_impurity_decrease=0.0,\n",
            "                                                                                   min_impurity_split=None,\n",
            "                                                                                   min_samples_leaf=0.01,\n",
            "                                                                                   min_samples_split=0.10368421052631578,\n",
            "                                                                                   min_weight_fraction_leaf=0.0,\n",
            "                                                                                   n_estimators=25,\n",
            "                                                                                   n_jobs=1,\n",
            "                                                                                   oob_score=False,\n",
            "                                                                                   random_state=None,\n",
            "                                                                                   verbose=0,\n",
            "                                                                                   warm_start=False))],\n",
            "                                                    verbose=False))],\n",
            "                              flatten_transform=None,\n",
            "                              weights=[0.2, 0.1, 0.1, 0.1, 0.1, 0.1, 0.2, 0.1])\n",
            "{'_aml_system_azureml.automlComponent': 'AutoML', '_aml_system_ComputeTargetStatus': '{\"AllocationState\":\"steady\",\"PreparingNodeCount\":0,\"RunningNodeCount\":2,\"CurrentNodeCount\":3}', 'ensembled_iterations': '[23, 17, 2, 29, 9, 5, 24, 26]', 'ensembled_algorithms': \"['LightGBM', 'ExtremeRandomTrees', 'RandomForest', 'LightGBM', 'RandomForest', 'LightGBM', 'LightGBM', 'RandomForest']\", 'ensemble_weights': '[0.2, 0.1, 0.1, 0.1, 0.1, 0.1, 0.2, 0.1]', 'best_individual_pipeline_score': '0.8733050847457627', 'best_individual_iteration': '23', '_aml_system_automl_is_child_run_end_telemetry_event_logged': 'True'}\n"
          ]
        }
      ],
      "execution_count": 15,
      "metadata": {
        "gather": {
          "logged": 1613159308625
        }
      }
    },
    {
      "cell_type": "code",
      "source": [
        "#TODO: Save the best model\n",
        "os.makedirs('./outputs', exist_ok=True)\n",
        "\n",
        "joblib.dump(fitted_model, filename='outputs/automl.joblib')\n",
        "\n",
        "model_name = best_run.properties['model_name']\n",
        "model_name"
      ],
      "outputs": [
        {
          "output_type": "execute_result",
          "execution_count": 16,
          "data": {
            "text/plain": "'AutoML24db30fea38'"
          },
          "metadata": {}
        }
      ],
      "execution_count": 16,
      "metadata": {
        "gather": {
          "logged": 1613159415172
        },
        "jupyter": {
          "outputs_hidden": false,
          "source_hidden": false
        },
        "nteract": {
          "transient": {
            "deleting": false
          }
        }
      }
    },
    {
      "cell_type": "code",
      "source": [
        "env = best_run.get_environment()\n",
        "\n",
        "script_file = 'score.py'\n",
        "\n",
        "best_run.download_file('outputs/scoring_file_v_1_0_0.py', script_file)"
      ],
      "outputs": [],
      "execution_count": 17,
      "metadata": {
        "gather": {
          "logged": 1613159422881
        }
      }
    },
    {
      "cell_type": "markdown",
      "source": [
        "## Model Deployment\n",
        "Register the model, create an inference config and deploy the model as a web service"
      ],
      "metadata": {}
    },
    {
      "cell_type": "code",
      "source": [
        "model = remote_run.register_model(model_name = model_name,\n",
        "                                  description = 'AutoML model')"
      ],
      "outputs": [],
      "execution_count": 24,
      "metadata": {
        "gather": {
          "logged": 1613161137231
        },
        "jupyter": {
          "outputs_hidden": false,
          "source_hidden": false
        },
        "nteract": {
          "transient": {
            "deleting": false
          }
        }
      }
    },
    {
      "cell_type": "code",
      "source": [
        "inference_config = InferenceConfig(entry_script = script_file, environment = env)"
      ],
      "outputs": [],
      "execution_count": 25,
      "metadata": {
        "gather": {
          "logged": 1613161141269
        }
      }
    },
    {
      "cell_type": "code",
      "source": [
        "aci_config = AciWebservice.deploy_configuration(cpu_cores = 1, memory_gb = 1)\n",
        "\n",
        "service_name = 'automl-heart-failure'\n",
        "\n",
        "print(service_name)"
      ],
      "outputs": [
        {
          "output_type": "stream",
          "name": "stdout",
          "text": [
            "automl-heart-failure\n"
          ]
        }
      ],
      "execution_count": 26,
      "metadata": {
        "gather": {
          "logged": 1613161144978
        }
      }
    },
    {
      "cell_type": "markdown",
      "source": [
        "Request to the web service to test it."
      ],
      "metadata": {
        "collapsed": true,
        "gather": {
          "logged": 1598431657736
        },
        "jupyter": {
          "outputs_hidden": false,
          "source_hidden": false
        },
        "nteract": {
          "transient": {
            "deleting": false
          }
        }
      }
    },
    {
      "cell_type": "code",
      "source": [
        "service = Model.deploy(ws, service_name, [model], inference_config, aci_config)\r\n",
        "service.wait_for_deployment(True)"
      ],
      "outputs": [
        {
          "output_type": "stream",
          "name": "stdout",
          "text": [
            "Tips: You can try get_logs(): https://aka.ms/debugimage#dockerlog or local deployment: https://aka.ms/debugimage#debug-locally to debug if deployment takes longer than 10 minutes.\n",
            "SucceededACI service creation operation finished, operation \"Succeeded\"\n"
          ]
        }
      ],
      "execution_count": 31,
      "metadata": {
        "gather": {
          "logged": 1613161275821
        },
        "jupyter": {
          "outputs_hidden": false,
          "source_hidden": false
        },
        "nteract": {
          "transient": {
            "deleting": false
          }
        }
      }
    },
    {
      "cell_type": "markdown",
      "source": [
        "Print the logs of the web service and delete the service"
      ],
      "metadata": {
        "collapsed": true,
        "gather": {
          "logged": 1598432765711
        },
        "jupyter": {
          "outputs_hidden": false,
          "source_hidden": false
        },
        "nteract": {
          "transient": {
            "deleting": false
          }
        }
      }
    },
    {
      "cell_type": "code",
      "source": [
        "print(\"State: \" + service.state)\n",
        "print(\"Scoring URI: \" + service.scoring_uri)"
      ],
      "outputs": [
        {
          "output_type": "stream",
          "name": "stdout",
          "text": [
            "State: Healthy\n",
            "Scoring URI: http://1b402015-a496-4d9b-8805-522afaf3f0e7.southcentralus.azurecontainer.io/score\n"
          ]
        }
      ],
      "execution_count": 32,
      "metadata": {
        "jupyter": {
          "outputs_hidden": false,
          "source_hidden": false
        },
        "nteract": {
          "transient": {
            "deleting": false
          }
        },
        "gather": {
          "logged": 1613161364052
        }
      }
    },
    {
      "cell_type": "code",
      "source": [
        "%run endpoint.py"
      ],
      "outputs": [
        {
          "output_type": "stream",
          "name": "stdout",
          "text": [
            "{\"result\": [0, 0]}\n"
          ]
        }
      ],
      "execution_count": 35,
      "metadata": {
        "collapsed": true,
        "jupyter": {
          "source_hidden": false,
          "outputs_hidden": false
        },
        "nteract": {
          "transient": {
            "deleting": false
          }
        }
      }
    },
    {
      "cell_type": "code",
      "source": [
        "service.delete()"
      ],
      "outputs": [],
      "execution_count": 38,
      "metadata": {
        "gather": {
          "logged": 1613165402672
        }
      }
    }
  ],
  "metadata": {
    "kernel_info": {
      "name": "python3"
    },
    "kernelspec": {
      "name": "python3",
      "language": "python",
      "display_name": "Python 3"
    },
    "language_info": {
      "name": "python",
      "version": "3.6.9",
      "mimetype": "text/x-python",
      "codemirror_mode": {
        "name": "ipython",
        "version": 3
      },
      "pygments_lexer": "ipython3",
      "nbconvert_exporter": "python",
      "file_extension": ".py"
    },
    "nteract": {
      "version": "nteract-front-end@1.0.0"
    }
  },
  "nbformat": 4,
  "nbformat_minor": 2
}